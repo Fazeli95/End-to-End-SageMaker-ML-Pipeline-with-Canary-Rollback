{
 "cells": [
  {
   "cell_type": "markdown",
   "id": "1ee138ae",
   "metadata": {},
   "source": [
    "# End-to-End SageMaker-ML-Pipeline-with-Canary-Rollback\n",
    "\n",
    "### Author: Pooya Fazeli\n",
    "- **Email**: [pooya.fazeli@gmail.com](mailto:pooya.fazeli@gmail.com)\n",
    "- **GitHub**: [github.com/fazeli95](https://github.com/fazeli95)\n",
    "\n",
    "This notebook demonstrates an end-to-end machine learning pipeline using Amazon SageMaker, including model training, hyperparameter tuning, deployment, and advanced deployment strategies such as canary rollback and shadow testing. The entire workflow is captured in this notebook, with all outputs preserved.\n",
    "\n",
    "**License**: This project is licensed under the MIT License. See the [LICENSE](https://opensource.org/licenses/MIT) file for more details.\n"
   ]
  },
  {
   "cell_type": "markdown",
   "id": "df8a7e23",
   "metadata": {},
   "source": [
    "# Importing Necessary Libraries\n",
    "and initializing requirements"
   ]
  },
  {
   "cell_type": "code",
   "execution_count": 2,
   "id": "ff73d62e",
   "metadata": {},
   "outputs": [
    {
     "name": "stdout",
     "output_type": "stream",
     "text": [
      "sagemaker.config INFO - Not applying SDK defaults from location: /etc/xdg/sagemaker/config.yaml\n",
      "sagemaker.config INFO - Not applying SDK defaults from location: /home/ec2-user/.config/sagemaker/config.yaml\n"
     ]
    }
   ],
   "source": [
    "import sagemaker\n",
    "import json\n",
    "import pandas as pd\n",
    "import numpy as np\n",
    "import boto3\n",
    "import matplotlib.pyplot as plt"
   ]
  },
  {
   "cell_type": "code",
   "execution_count": 3,
   "id": "baefe166",
   "metadata": {},
   "outputs": [],
   "source": [
    "sagemaker_session = sagemaker.Session() # create  a SageMaker session\n",
    "s3 = sagemaker_session.boto_session.resource(\"s3\") #creates a resource object for interacting with Amazon S3.\n",
    "\n",
    "region = boto3.Session().region_name\n",
    "role = sagemaker.get_execution_role()"
   ]
  },
  {
   "cell_type": "code",
   "execution_count": 5,
   "id": "dd60d23c",
   "metadata": {},
   "outputs": [
    {
     "name": "stdout",
     "output_type": "stream",
     "text": [
      "<built-in method values of Bunch object at 0x7f800eb68d60>\n"
     ]
    },
    {
     "data": {
      "text/plain": [
       "Selected                0\n",
       "LoanNr_ChkDgt           0\n",
       "Name                    0\n",
       "City                    0\n",
       "State                   0\n",
       "Zip                     0\n",
       "Bank                    3\n",
       "BankState               3\n",
       "NAICS                   0\n",
       "ApprovalDate            0\n",
       "ApprovalFY              0\n",
       "Term                    0\n",
       "NoEmp                   0\n",
       "NewExist                1\n",
       "CreateJob               0\n",
       "RetainedJob             0\n",
       "FranchiseCode           0\n",
       "UrbanRural              0\n",
       "RevLineCr               2\n",
       "LowDoc                  3\n",
       "ChgOffDate           1405\n",
       "DisbursementDate        3\n",
       "DisbursementGross       0\n",
       "BalanceGross            0\n",
       "MIS_Status              0\n",
       "ChgOffPrinGr            0\n",
       "GrAppv                  0\n",
       "SBA_Appv                0\n",
       "New                     0\n",
       "RealEstate              0\n",
       "Portion                 0\n",
       "Recession               0\n",
       "daysterm                0\n",
       "xx                      3\n",
       "Default                 0\n",
       "dtype: int64"
      ]
     },
     "execution_count": 5,
     "metadata": {},
     "output_type": "execute_result"
    }
   ],
   "source": [
    "from sklearn.datasets import fetch_openml\n",
    "\n",
    "\n",
    "data = fetch_openml(data_id=43539, as_frame=True)\n",
    "print(data.values)\n",
    "df = data.data\n",
    "df.isna().sum()\n"
   ]
  },
  {
   "cell_type": "code",
   "execution_count": 7,
   "id": "3d469b2d",
   "metadata": {},
   "outputs": [
    {
     "name": "stdout",
     "output_type": "stream",
     "text": [
      "[0 1]\n"
     ]
    },
    {
     "data": {
      "text/plain": [
       "686"
      ]
     },
     "execution_count": 7,
     "metadata": {},
     "output_type": "execute_result"
    }
   ],
   "source": [
    "print(df['Default'].unique())\n",
    "df['Default'].sum()"
   ]
  },
  {
   "cell_type": "markdown",
   "id": "2ccc6379",
   "metadata": {},
   "source": [
    "# Feature Engineering"
   ]
  },
  {
   "cell_type": "code",
   "execution_count": 8,
   "id": "6d79cc0e",
   "metadata": {},
   "outputs": [],
   "source": [
    "\n",
    "\n",
    "#1 we drop the selected column as it was used before to label training and testing data\n",
    "df.drop(columns='Selected',inplace=True)"
   ]
  },
  {
   "cell_type": "code",
   "execution_count": 9,
   "id": "e08f091b",
   "metadata": {},
   "outputs": [
    {
     "data": {
      "text/html": [
       "<div>\n",
       "<style scoped>\n",
       "    .dataframe tbody tr th:only-of-type {\n",
       "        vertical-align: middle;\n",
       "    }\n",
       "\n",
       "    .dataframe tbody tr th {\n",
       "        vertical-align: top;\n",
       "    }\n",
       "\n",
       "    .dataframe thead th {\n",
       "        text-align: right;\n",
       "    }\n",
       "</style>\n",
       "<table border=\"1\" class=\"dataframe\">\n",
       "  <thead>\n",
       "    <tr style=\"text-align: right;\">\n",
       "      <th></th>\n",
       "      <th>LoanNr_ChkDgt</th>\n",
       "      <th>Name</th>\n",
       "      <th>City</th>\n",
       "      <th>State</th>\n",
       "      <th>Zip</th>\n",
       "      <th>Bank</th>\n",
       "      <th>BankState</th>\n",
       "      <th>NAICS</th>\n",
       "      <th>ApprovalDate</th>\n",
       "      <th>ApprovalFY</th>\n",
       "      <th>...</th>\n",
       "      <th>ChgOffPrinGr</th>\n",
       "      <th>GrAppv</th>\n",
       "      <th>SBA_Appv</th>\n",
       "      <th>New</th>\n",
       "      <th>RealEstate</th>\n",
       "      <th>Portion</th>\n",
       "      <th>Recession</th>\n",
       "      <th>daysterm</th>\n",
       "      <th>xx</th>\n",
       "      <th>Default</th>\n",
       "    </tr>\n",
       "  </thead>\n",
       "  <tbody>\n",
       "    <tr>\n",
       "      <th>0</th>\n",
       "      <td>1004285007</td>\n",
       "      <td>SIMPLEX OFFICE SOLUTIONS</td>\n",
       "      <td>ANAHEIM</td>\n",
       "      <td>CA</td>\n",
       "      <td>92801</td>\n",
       "      <td>CALIFORNIA BANK  TRUST</td>\n",
       "      <td>CA</td>\n",
       "      <td>532420</td>\n",
       "      <td>15074</td>\n",
       "      <td>2001</td>\n",
       "      <td>...</td>\n",
       "      <td>0</td>\n",
       "      <td>30000</td>\n",
       "      <td>15000</td>\n",
       "      <td>0</td>\n",
       "      <td>0</td>\n",
       "      <td>0.5</td>\n",
       "      <td>0</td>\n",
       "      <td>1080</td>\n",
       "      <td>16175.0</td>\n",
       "      <td>0</td>\n",
       "    </tr>\n",
       "    <tr>\n",
       "      <th>1</th>\n",
       "      <td>1004535010</td>\n",
       "      <td>DREAM HOME REALTY</td>\n",
       "      <td>TORRANCE</td>\n",
       "      <td>CA</td>\n",
       "      <td>90505</td>\n",
       "      <td>CALIFORNIA BANK  TRUST</td>\n",
       "      <td>CA</td>\n",
       "      <td>531210</td>\n",
       "      <td>15130</td>\n",
       "      <td>2001</td>\n",
       "      <td>...</td>\n",
       "      <td>0</td>\n",
       "      <td>30000</td>\n",
       "      <td>15000</td>\n",
       "      <td>0</td>\n",
       "      <td>0</td>\n",
       "      <td>0.5</td>\n",
       "      <td>1</td>\n",
       "      <td>1680</td>\n",
       "      <td>17658.0</td>\n",
       "      <td>0</td>\n",
       "    </tr>\n",
       "    <tr>\n",
       "      <th>2</th>\n",
       "      <td>1005005006</td>\n",
       "      <td>Winset, Inc. dba Bankers Hill</td>\n",
       "      <td>SAN DIEGO</td>\n",
       "      <td>CA</td>\n",
       "      <td>92103</td>\n",
       "      <td>CALIFORNIA BANK  TRUST</td>\n",
       "      <td>CA</td>\n",
       "      <td>531210</td>\n",
       "      <td>15188</td>\n",
       "      <td>2001</td>\n",
       "      <td>...</td>\n",
       "      <td>0</td>\n",
       "      <td>30000</td>\n",
       "      <td>15000</td>\n",
       "      <td>0</td>\n",
       "      <td>0</td>\n",
       "      <td>0.5</td>\n",
       "      <td>0</td>\n",
       "      <td>1080</td>\n",
       "      <td>16298.0</td>\n",
       "      <td>0</td>\n",
       "    </tr>\n",
       "    <tr>\n",
       "      <th>3</th>\n",
       "      <td>1005535001</td>\n",
       "      <td>Shiva Management</td>\n",
       "      <td>SAN DIEGO</td>\n",
       "      <td>CA</td>\n",
       "      <td>92108</td>\n",
       "      <td>CALIFORNIA BANK  TRUST</td>\n",
       "      <td>CA</td>\n",
       "      <td>531312</td>\n",
       "      <td>15719</td>\n",
       "      <td>2003</td>\n",
       "      <td>...</td>\n",
       "      <td>0</td>\n",
       "      <td>50000</td>\n",
       "      <td>25000</td>\n",
       "      <td>0</td>\n",
       "      <td>0</td>\n",
       "      <td>0.5</td>\n",
       "      <td>0</td>\n",
       "      <td>1080</td>\n",
       "      <td>16816.0</td>\n",
       "      <td>0</td>\n",
       "    </tr>\n",
       "    <tr>\n",
       "      <th>4</th>\n",
       "      <td>1005996006</td>\n",
       "      <td>GOLD CROWN HOME LOANS, INC</td>\n",
       "      <td>LOS ANGELES</td>\n",
       "      <td>CA</td>\n",
       "      <td>91345</td>\n",
       "      <td>SBA - EDF ENFORCEMENT ACTION</td>\n",
       "      <td>CO</td>\n",
       "      <td>531390</td>\n",
       "      <td>16840</td>\n",
       "      <td>2006</td>\n",
       "      <td>...</td>\n",
       "      <td>0</td>\n",
       "      <td>343000</td>\n",
       "      <td>343000</td>\n",
       "      <td>0</td>\n",
       "      <td>1</td>\n",
       "      <td>1.0</td>\n",
       "      <td>0</td>\n",
       "      <td>7200</td>\n",
       "      <td>24103.0</td>\n",
       "      <td>0</td>\n",
       "    </tr>\n",
       "  </tbody>\n",
       "</table>\n",
       "<p>5 rows × 34 columns</p>\n",
       "</div>"
      ],
      "text/plain": [
       "   LoanNr_ChkDgt                           Name         City State    Zip  \\\n",
       "0     1004285007       SIMPLEX OFFICE SOLUTIONS      ANAHEIM    CA  92801   \n",
       "1     1004535010              DREAM HOME REALTY     TORRANCE    CA  90505   \n",
       "2     1005005006  Winset, Inc. dba Bankers Hill    SAN DIEGO    CA  92103   \n",
       "3     1005535001               Shiva Management    SAN DIEGO    CA  92108   \n",
       "4     1005996006     GOLD CROWN HOME LOANS, INC  LOS ANGELES    CA  91345   \n",
       "\n",
       "                           Bank BankState   NAICS  ApprovalDate  ApprovalFY  \\\n",
       "0        CALIFORNIA BANK  TRUST        CA  532420         15074        2001   \n",
       "1        CALIFORNIA BANK  TRUST        CA  531210         15130        2001   \n",
       "2        CALIFORNIA BANK  TRUST        CA  531210         15188        2001   \n",
       "3        CALIFORNIA BANK  TRUST        CA  531312         15719        2003   \n",
       "4  SBA - EDF ENFORCEMENT ACTION        CO  531390         16840        2006   \n",
       "\n",
       "   ...  ChgOffPrinGr  GrAppv  SBA_Appv  New  RealEstate  Portion  Recession  \\\n",
       "0  ...             0   30000     15000    0           0      0.5          0   \n",
       "1  ...             0   30000     15000    0           0      0.5          1   \n",
       "2  ...             0   30000     15000    0           0      0.5          0   \n",
       "3  ...             0   50000     25000    0           0      0.5          0   \n",
       "4  ...             0  343000    343000    0           1      1.0          0   \n",
       "\n",
       "  daysterm       xx  Default  \n",
       "0     1080  16175.0        0  \n",
       "1     1680  17658.0        0  \n",
       "2     1080  16298.0        0  \n",
       "3     1080  16816.0        0  \n",
       "4     7200  24103.0        0  \n",
       "\n",
       "[5 rows x 34 columns]"
      ]
     },
     "execution_count": 9,
     "metadata": {},
     "output_type": "execute_result"
    }
   ],
   "source": [
    "df.head()"
   ]
  },
  {
   "cell_type": "code",
   "execution_count": 10,
   "id": "1696deb9",
   "metadata": {},
   "outputs": [],
   "source": [
    "#2 we drop the column chgoff as it has a lot of missing values\n",
    "df.drop(columns='ChgOffDate',inplace=True)"
   ]
  },
  {
   "cell_type": "code",
   "execution_count": 11,
   "id": "713cf8b1",
   "metadata": {},
   "outputs": [
    {
     "data": {
      "text/html": [
       "<div>\n",
       "<style scoped>\n",
       "    .dataframe tbody tr th:only-of-type {\n",
       "        vertical-align: middle;\n",
       "    }\n",
       "\n",
       "    .dataframe tbody tr th {\n",
       "        vertical-align: top;\n",
       "    }\n",
       "\n",
       "    .dataframe thead th {\n",
       "        text-align: right;\n",
       "    }\n",
       "</style>\n",
       "<table border=\"1\" class=\"dataframe\">\n",
       "  <thead>\n",
       "    <tr style=\"text-align: right;\">\n",
       "      <th></th>\n",
       "      <th>LoanNr_ChkDgt</th>\n",
       "      <th>Name</th>\n",
       "      <th>City</th>\n",
       "      <th>State</th>\n",
       "      <th>Zip</th>\n",
       "      <th>Bank</th>\n",
       "      <th>BankState</th>\n",
       "      <th>NAICS</th>\n",
       "      <th>ApprovalDate</th>\n",
       "      <th>ApprovalFY</th>\n",
       "      <th>...</th>\n",
       "      <th>ChgOffPrinGr</th>\n",
       "      <th>GrAppv</th>\n",
       "      <th>SBA_Appv</th>\n",
       "      <th>New</th>\n",
       "      <th>RealEstate</th>\n",
       "      <th>Portion</th>\n",
       "      <th>Recession</th>\n",
       "      <th>daysterm</th>\n",
       "      <th>xx</th>\n",
       "      <th>Default</th>\n",
       "    </tr>\n",
       "  </thead>\n",
       "  <tbody>\n",
       "    <tr>\n",
       "      <th>2096</th>\n",
       "      <td>9893714004</td>\n",
       "      <td>HOLLYWOOD TENTWORKS INC</td>\n",
       "      <td>PACOIMA</td>\n",
       "      <td>CA</td>\n",
       "      <td>91331</td>\n",
       "      <td>SBA - EDF ENFORCEMENT ACTION</td>\n",
       "      <td>CO</td>\n",
       "      <td>532310</td>\n",
       "      <td>16838</td>\n",
       "      <td>2006</td>\n",
       "      <td>...</td>\n",
       "      <td>0</td>\n",
       "      <td>1029000</td>\n",
       "      <td>1029000</td>\n",
       "      <td>0</td>\n",
       "      <td>1</td>\n",
       "      <td>1.00</td>\n",
       "      <td>0</td>\n",
       "      <td>7200</td>\n",
       "      <td>24103.0</td>\n",
       "      <td>0</td>\n",
       "    </tr>\n",
       "    <tr>\n",
       "      <th>2097</th>\n",
       "      <td>9893874006</td>\n",
       "      <td>MEGA VIDEO  WIRELESS HIGHLAND</td>\n",
       "      <td>HIGHLAND</td>\n",
       "      <td>CA</td>\n",
       "      <td>92346</td>\n",
       "      <td>UNITI BANK</td>\n",
       "      <td>CA</td>\n",
       "      <td>532230</td>\n",
       "      <td>16838</td>\n",
       "      <td>2006</td>\n",
       "      <td>...</td>\n",
       "      <td>0</td>\n",
       "      <td>150000</td>\n",
       "      <td>75000</td>\n",
       "      <td>1</td>\n",
       "      <td>0</td>\n",
       "      <td>0.50</td>\n",
       "      <td>0</td>\n",
       "      <td>1800</td>\n",
       "      <td>18691.0</td>\n",
       "      <td>0</td>\n",
       "    </tr>\n",
       "    <tr>\n",
       "      <th>2098</th>\n",
       "      <td>9901143004</td>\n",
       "      <td>MOVING CONNECTION  CARL'S TRA</td>\n",
       "      <td>EL CAJON</td>\n",
       "      <td>CA</td>\n",
       "      <td>92021</td>\n",
       "      <td>ZIONS FIRST NATIONAL BANK</td>\n",
       "      <td>UT</td>\n",
       "      <td>532120</td>\n",
       "      <td>13530</td>\n",
       "      <td>1997</td>\n",
       "      <td>...</td>\n",
       "      <td>0</td>\n",
       "      <td>99000</td>\n",
       "      <td>79200</td>\n",
       "      <td>0</td>\n",
       "      <td>1</td>\n",
       "      <td>0.80</td>\n",
       "      <td>0</td>\n",
       "      <td>9000</td>\n",
       "      <td>22545.0</td>\n",
       "      <td>0</td>\n",
       "    </tr>\n",
       "    <tr>\n",
       "      <th>2099</th>\n",
       "      <td>9903293007</td>\n",
       "      <td>A.J. STUDIO RENTALS, INC.</td>\n",
       "      <td>CAMARILLO</td>\n",
       "      <td>CA</td>\n",
       "      <td>93012</td>\n",
       "      <td>CITY NATIONAL BANK</td>\n",
       "      <td>CA</td>\n",
       "      <td>532120</td>\n",
       "      <td>13531</td>\n",
       "      <td>1997</td>\n",
       "      <td>...</td>\n",
       "      <td>0</td>\n",
       "      <td>50000</td>\n",
       "      <td>40000</td>\n",
       "      <td>0</td>\n",
       "      <td>0</td>\n",
       "      <td>0.80</td>\n",
       "      <td>0</td>\n",
       "      <td>2520</td>\n",
       "      <td>16124.0</td>\n",
       "      <td>0</td>\n",
       "    </tr>\n",
       "    <tr>\n",
       "      <th>2100</th>\n",
       "      <td>9925643006</td>\n",
       "      <td>TAHOE MOTION PICTURE RENTALS</td>\n",
       "      <td>SUN VALLEY</td>\n",
       "      <td>CA</td>\n",
       "      <td>91352</td>\n",
       "      <td>CITY NATIONAL BANK</td>\n",
       "      <td>CA</td>\n",
       "      <td>532120</td>\n",
       "      <td>13542</td>\n",
       "      <td>1997</td>\n",
       "      <td>...</td>\n",
       "      <td>0</td>\n",
       "      <td>500000</td>\n",
       "      <td>375000</td>\n",
       "      <td>0</td>\n",
       "      <td>0</td>\n",
       "      <td>0.75</td>\n",
       "      <td>0</td>\n",
       "      <td>3600</td>\n",
       "      <td>17265.0</td>\n",
       "      <td>0</td>\n",
       "    </tr>\n",
       "  </tbody>\n",
       "</table>\n",
       "<p>5 rows × 33 columns</p>\n",
       "</div>"
      ],
      "text/plain": [
       "      LoanNr_ChkDgt                           Name        City State    Zip  \\\n",
       "2096     9893714004        HOLLYWOOD TENTWORKS INC     PACOIMA    CA  91331   \n",
       "2097     9893874006  MEGA VIDEO  WIRELESS HIGHLAND    HIGHLAND    CA  92346   \n",
       "2098     9901143004  MOVING CONNECTION  CARL'S TRA    EL CAJON    CA  92021   \n",
       "2099     9903293007      A.J. STUDIO RENTALS, INC.   CAMARILLO    CA  93012   \n",
       "2100     9925643006   TAHOE MOTION PICTURE RENTALS  SUN VALLEY    CA  91352   \n",
       "\n",
       "                              Bank BankState   NAICS  ApprovalDate  \\\n",
       "2096  SBA - EDF ENFORCEMENT ACTION        CO  532310         16838   \n",
       "2097                    UNITI BANK        CA  532230         16838   \n",
       "2098     ZIONS FIRST NATIONAL BANK        UT  532120         13530   \n",
       "2099            CITY NATIONAL BANK        CA  532120         13531   \n",
       "2100            CITY NATIONAL BANK        CA  532120         13542   \n",
       "\n",
       "      ApprovalFY  ...  ChgOffPrinGr   GrAppv  SBA_Appv  New  RealEstate  \\\n",
       "2096        2006  ...             0  1029000   1029000    0           1   \n",
       "2097        2006  ...             0   150000     75000    1           0   \n",
       "2098        1997  ...             0    99000     79200    0           1   \n",
       "2099        1997  ...             0    50000     40000    0           0   \n",
       "2100        1997  ...             0   500000    375000    0           0   \n",
       "\n",
       "      Portion  Recession daysterm       xx  Default  \n",
       "2096     1.00          0     7200  24103.0        0  \n",
       "2097     0.50          0     1800  18691.0        0  \n",
       "2098     0.80          0     9000  22545.0        0  \n",
       "2099     0.80          0     2520  16124.0        0  \n",
       "2100     0.75          0     3600  17265.0        0  \n",
       "\n",
       "[5 rows x 33 columns]"
      ]
     },
     "execution_count": 11,
     "metadata": {},
     "output_type": "execute_result"
    }
   ],
   "source": [
    "#3 we drop the missing values\n",
    "df.dropna(axis=0, inplace=True)\n",
    "df.tail()"
   ]
  },
  {
   "cell_type": "code",
   "execution_count": 12,
   "id": "1702ea19",
   "metadata": {},
   "outputs": [],
   "source": [
    "#4 the column 'NAICS'is a number which the first 2 numbers represent \n",
    "#the business industy we seperate the first2 numbers and only use them\n",
    "\n",
    "df['NAICS'] = df['NAICS'].astype(str).str[:2].astype(int)\n",
    "#5 dropping the column LoanNr_Chkdgt\n",
    "df.drop(columns='LoanNr_ChkDgt',inplace=True)\n"
   ]
  },
  {
   "cell_type": "code",
   "execution_count": 13,
   "id": "2dbde3df",
   "metadata": {},
   "outputs": [],
   "source": [
    "#5 droping the names columns\n",
    "df.drop(columns='Name',inplace=True)\n"
   ]
  },
  {
   "cell_type": "code",
   "execution_count": 14,
   "id": "d3f2a31d",
   "metadata": {},
   "outputs": [
    {
     "data": {
      "text/html": [
       "<div>\n",
       "<style scoped>\n",
       "    .dataframe tbody tr th:only-of-type {\n",
       "        vertical-align: middle;\n",
       "    }\n",
       "\n",
       "    .dataframe tbody tr th {\n",
       "        vertical-align: top;\n",
       "    }\n",
       "\n",
       "    .dataframe thead th {\n",
       "        text-align: right;\n",
       "    }\n",
       "</style>\n",
       "<table border=\"1\" class=\"dataframe\">\n",
       "  <thead>\n",
       "    <tr style=\"text-align: right;\">\n",
       "      <th></th>\n",
       "      <th>City</th>\n",
       "      <th>State</th>\n",
       "      <th>Zip</th>\n",
       "      <th>Bank</th>\n",
       "      <th>BankState</th>\n",
       "      <th>NAICS</th>\n",
       "      <th>ApprovalDate</th>\n",
       "      <th>ApprovalFY</th>\n",
       "      <th>Term</th>\n",
       "      <th>NoEmp</th>\n",
       "      <th>...</th>\n",
       "      <th>ChgOffPrinGr</th>\n",
       "      <th>GrAppv</th>\n",
       "      <th>SBA_Appv</th>\n",
       "      <th>New</th>\n",
       "      <th>RealEstate</th>\n",
       "      <th>Portion</th>\n",
       "      <th>Recession</th>\n",
       "      <th>daysterm</th>\n",
       "      <th>xx</th>\n",
       "      <th>Default</th>\n",
       "    </tr>\n",
       "  </thead>\n",
       "  <tbody>\n",
       "    <tr>\n",
       "      <th>0</th>\n",
       "      <td>ANAHEIM</td>\n",
       "      <td>CA</td>\n",
       "      <td>92801</td>\n",
       "      <td>CALIFORNIA BANK  TRUST</td>\n",
       "      <td>CA</td>\n",
       "      <td>53</td>\n",
       "      <td>15074</td>\n",
       "      <td>2001</td>\n",
       "      <td>36</td>\n",
       "      <td>1</td>\n",
       "      <td>...</td>\n",
       "      <td>0</td>\n",
       "      <td>30000</td>\n",
       "      <td>15000</td>\n",
       "      <td>0</td>\n",
       "      <td>0</td>\n",
       "      <td>0.5</td>\n",
       "      <td>0</td>\n",
       "      <td>1080</td>\n",
       "      <td>16175.0</td>\n",
       "      <td>0</td>\n",
       "    </tr>\n",
       "    <tr>\n",
       "      <th>1</th>\n",
       "      <td>TORRANCE</td>\n",
       "      <td>CA</td>\n",
       "      <td>90505</td>\n",
       "      <td>CALIFORNIA BANK  TRUST</td>\n",
       "      <td>CA</td>\n",
       "      <td>53</td>\n",
       "      <td>15130</td>\n",
       "      <td>2001</td>\n",
       "      <td>56</td>\n",
       "      <td>1</td>\n",
       "      <td>...</td>\n",
       "      <td>0</td>\n",
       "      <td>30000</td>\n",
       "      <td>15000</td>\n",
       "      <td>0</td>\n",
       "      <td>0</td>\n",
       "      <td>0.5</td>\n",
       "      <td>1</td>\n",
       "      <td>1680</td>\n",
       "      <td>17658.0</td>\n",
       "      <td>0</td>\n",
       "    </tr>\n",
       "    <tr>\n",
       "      <th>2</th>\n",
       "      <td>SAN DIEGO</td>\n",
       "      <td>CA</td>\n",
       "      <td>92103</td>\n",
       "      <td>CALIFORNIA BANK  TRUST</td>\n",
       "      <td>CA</td>\n",
       "      <td>53</td>\n",
       "      <td>15188</td>\n",
       "      <td>2001</td>\n",
       "      <td>36</td>\n",
       "      <td>10</td>\n",
       "      <td>...</td>\n",
       "      <td>0</td>\n",
       "      <td>30000</td>\n",
       "      <td>15000</td>\n",
       "      <td>0</td>\n",
       "      <td>0</td>\n",
       "      <td>0.5</td>\n",
       "      <td>0</td>\n",
       "      <td>1080</td>\n",
       "      <td>16298.0</td>\n",
       "      <td>0</td>\n",
       "    </tr>\n",
       "    <tr>\n",
       "      <th>3</th>\n",
       "      <td>SAN DIEGO</td>\n",
       "      <td>CA</td>\n",
       "      <td>92108</td>\n",
       "      <td>CALIFORNIA BANK  TRUST</td>\n",
       "      <td>CA</td>\n",
       "      <td>53</td>\n",
       "      <td>15719</td>\n",
       "      <td>2003</td>\n",
       "      <td>36</td>\n",
       "      <td>6</td>\n",
       "      <td>...</td>\n",
       "      <td>0</td>\n",
       "      <td>50000</td>\n",
       "      <td>25000</td>\n",
       "      <td>0</td>\n",
       "      <td>0</td>\n",
       "      <td>0.5</td>\n",
       "      <td>0</td>\n",
       "      <td>1080</td>\n",
       "      <td>16816.0</td>\n",
       "      <td>0</td>\n",
       "    </tr>\n",
       "    <tr>\n",
       "      <th>4</th>\n",
       "      <td>LOS ANGELES</td>\n",
       "      <td>CA</td>\n",
       "      <td>91345</td>\n",
       "      <td>SBA - EDF ENFORCEMENT ACTION</td>\n",
       "      <td>CO</td>\n",
       "      <td>53</td>\n",
       "      <td>16840</td>\n",
       "      <td>2006</td>\n",
       "      <td>240</td>\n",
       "      <td>65</td>\n",
       "      <td>...</td>\n",
       "      <td>0</td>\n",
       "      <td>343000</td>\n",
       "      <td>343000</td>\n",
       "      <td>0</td>\n",
       "      <td>1</td>\n",
       "      <td>1.0</td>\n",
       "      <td>0</td>\n",
       "      <td>7200</td>\n",
       "      <td>24103.0</td>\n",
       "      <td>0</td>\n",
       "    </tr>\n",
       "  </tbody>\n",
       "</table>\n",
       "<p>5 rows × 31 columns</p>\n",
       "</div>"
      ],
      "text/plain": [
       "          City State    Zip                          Bank BankState  NAICS  \\\n",
       "0      ANAHEIM    CA  92801        CALIFORNIA BANK  TRUST        CA     53   \n",
       "1     TORRANCE    CA  90505        CALIFORNIA BANK  TRUST        CA     53   \n",
       "2    SAN DIEGO    CA  92103        CALIFORNIA BANK  TRUST        CA     53   \n",
       "3    SAN DIEGO    CA  92108        CALIFORNIA BANK  TRUST        CA     53   \n",
       "4  LOS ANGELES    CA  91345  SBA - EDF ENFORCEMENT ACTION        CO     53   \n",
       "\n",
       "   ApprovalDate  ApprovalFY  Term  NoEmp  ...  ChgOffPrinGr  GrAppv  SBA_Appv  \\\n",
       "0         15074        2001    36      1  ...             0   30000     15000   \n",
       "1         15130        2001    56      1  ...             0   30000     15000   \n",
       "2         15188        2001    36     10  ...             0   30000     15000   \n",
       "3         15719        2003    36      6  ...             0   50000     25000   \n",
       "4         16840        2006   240     65  ...             0  343000    343000   \n",
       "\n",
       "   New  RealEstate Portion Recession  daysterm       xx  Default  \n",
       "0    0           0     0.5         0      1080  16175.0        0  \n",
       "1    0           0     0.5         1      1680  17658.0        0  \n",
       "2    0           0     0.5         0      1080  16298.0        0  \n",
       "3    0           0     0.5         0      1080  16816.0        0  \n",
       "4    0           1     1.0         0      7200  24103.0        0  \n",
       "\n",
       "[5 rows x 31 columns]"
      ]
     },
     "execution_count": 14,
     "metadata": {},
     "output_type": "execute_result"
    }
   ],
   "source": [
    "df.head()"
   ]
  },
  {
   "cell_type": "code",
   "execution_count": 15,
   "id": "dc280638",
   "metadata": {},
   "outputs": [
    {
     "data": {
      "text/html": [
       "<div>\n",
       "<style scoped>\n",
       "    .dataframe tbody tr th:only-of-type {\n",
       "        vertical-align: middle;\n",
       "    }\n",
       "\n",
       "    .dataframe tbody tr th {\n",
       "        vertical-align: top;\n",
       "    }\n",
       "\n",
       "    .dataframe thead th {\n",
       "        text-align: right;\n",
       "    }\n",
       "</style>\n",
       "<table border=\"1\" class=\"dataframe\">\n",
       "  <thead>\n",
       "    <tr style=\"text-align: right;\">\n",
       "      <th></th>\n",
       "      <th>Default</th>\n",
       "      <th>City</th>\n",
       "      <th>State</th>\n",
       "      <th>Zip</th>\n",
       "      <th>Bank</th>\n",
       "      <th>BankState</th>\n",
       "      <th>NAICS</th>\n",
       "      <th>ApprovalDate</th>\n",
       "      <th>ApprovalFY</th>\n",
       "      <th>Term</th>\n",
       "      <th>...</th>\n",
       "      <th>MIS_Status</th>\n",
       "      <th>ChgOffPrinGr</th>\n",
       "      <th>GrAppv</th>\n",
       "      <th>SBA_Appv</th>\n",
       "      <th>New</th>\n",
       "      <th>RealEstate</th>\n",
       "      <th>Portion</th>\n",
       "      <th>Recession</th>\n",
       "      <th>daysterm</th>\n",
       "      <th>xx</th>\n",
       "    </tr>\n",
       "  </thead>\n",
       "  <tbody>\n",
       "    <tr>\n",
       "      <th>0</th>\n",
       "      <td>0</td>\n",
       "      <td>ANAHEIM</td>\n",
       "      <td>CA</td>\n",
       "      <td>92801</td>\n",
       "      <td>CALIFORNIA BANK  TRUST</td>\n",
       "      <td>CA</td>\n",
       "      <td>53</td>\n",
       "      <td>15074</td>\n",
       "      <td>2001</td>\n",
       "      <td>36</td>\n",
       "      <td>...</td>\n",
       "      <td>P I F</td>\n",
       "      <td>0</td>\n",
       "      <td>30000</td>\n",
       "      <td>15000</td>\n",
       "      <td>0</td>\n",
       "      <td>0</td>\n",
       "      <td>0.5</td>\n",
       "      <td>0</td>\n",
       "      <td>1080</td>\n",
       "      <td>16175.0</td>\n",
       "    </tr>\n",
       "    <tr>\n",
       "      <th>1</th>\n",
       "      <td>0</td>\n",
       "      <td>TORRANCE</td>\n",
       "      <td>CA</td>\n",
       "      <td>90505</td>\n",
       "      <td>CALIFORNIA BANK  TRUST</td>\n",
       "      <td>CA</td>\n",
       "      <td>53</td>\n",
       "      <td>15130</td>\n",
       "      <td>2001</td>\n",
       "      <td>56</td>\n",
       "      <td>...</td>\n",
       "      <td>P I F</td>\n",
       "      <td>0</td>\n",
       "      <td>30000</td>\n",
       "      <td>15000</td>\n",
       "      <td>0</td>\n",
       "      <td>0</td>\n",
       "      <td>0.5</td>\n",
       "      <td>1</td>\n",
       "      <td>1680</td>\n",
       "      <td>17658.0</td>\n",
       "    </tr>\n",
       "    <tr>\n",
       "      <th>2</th>\n",
       "      <td>0</td>\n",
       "      <td>SAN DIEGO</td>\n",
       "      <td>CA</td>\n",
       "      <td>92103</td>\n",
       "      <td>CALIFORNIA BANK  TRUST</td>\n",
       "      <td>CA</td>\n",
       "      <td>53</td>\n",
       "      <td>15188</td>\n",
       "      <td>2001</td>\n",
       "      <td>36</td>\n",
       "      <td>...</td>\n",
       "      <td>P I F</td>\n",
       "      <td>0</td>\n",
       "      <td>30000</td>\n",
       "      <td>15000</td>\n",
       "      <td>0</td>\n",
       "      <td>0</td>\n",
       "      <td>0.5</td>\n",
       "      <td>0</td>\n",
       "      <td>1080</td>\n",
       "      <td>16298.0</td>\n",
       "    </tr>\n",
       "    <tr>\n",
       "      <th>3</th>\n",
       "      <td>0</td>\n",
       "      <td>SAN DIEGO</td>\n",
       "      <td>CA</td>\n",
       "      <td>92108</td>\n",
       "      <td>CALIFORNIA BANK  TRUST</td>\n",
       "      <td>CA</td>\n",
       "      <td>53</td>\n",
       "      <td>15719</td>\n",
       "      <td>2003</td>\n",
       "      <td>36</td>\n",
       "      <td>...</td>\n",
       "      <td>P I F</td>\n",
       "      <td>0</td>\n",
       "      <td>50000</td>\n",
       "      <td>25000</td>\n",
       "      <td>0</td>\n",
       "      <td>0</td>\n",
       "      <td>0.5</td>\n",
       "      <td>0</td>\n",
       "      <td>1080</td>\n",
       "      <td>16816.0</td>\n",
       "    </tr>\n",
       "    <tr>\n",
       "      <th>4</th>\n",
       "      <td>0</td>\n",
       "      <td>LOS ANGELES</td>\n",
       "      <td>CA</td>\n",
       "      <td>91345</td>\n",
       "      <td>SBA - EDF ENFORCEMENT ACTION</td>\n",
       "      <td>CO</td>\n",
       "      <td>53</td>\n",
       "      <td>16840</td>\n",
       "      <td>2006</td>\n",
       "      <td>240</td>\n",
       "      <td>...</td>\n",
       "      <td>P I F</td>\n",
       "      <td>0</td>\n",
       "      <td>343000</td>\n",
       "      <td>343000</td>\n",
       "      <td>0</td>\n",
       "      <td>1</td>\n",
       "      <td>1.0</td>\n",
       "      <td>0</td>\n",
       "      <td>7200</td>\n",
       "      <td>24103.0</td>\n",
       "    </tr>\n",
       "  </tbody>\n",
       "</table>\n",
       "<p>5 rows × 31 columns</p>\n",
       "</div>"
      ],
      "text/plain": [
       "   Default         City State    Zip                          Bank BankState  \\\n",
       "0        0      ANAHEIM    CA  92801        CALIFORNIA BANK  TRUST        CA   \n",
       "1        0     TORRANCE    CA  90505        CALIFORNIA BANK  TRUST        CA   \n",
       "2        0    SAN DIEGO    CA  92103        CALIFORNIA BANK  TRUST        CA   \n",
       "3        0    SAN DIEGO    CA  92108        CALIFORNIA BANK  TRUST        CA   \n",
       "4        0  LOS ANGELES    CA  91345  SBA - EDF ENFORCEMENT ACTION        CO   \n",
       "\n",
       "   NAICS  ApprovalDate  ApprovalFY  Term  ...  MIS_Status  ChgOffPrinGr  \\\n",
       "0     53         15074        2001    36  ...       P I F             0   \n",
       "1     53         15130        2001    56  ...       P I F             0   \n",
       "2     53         15188        2001    36  ...       P I F             0   \n",
       "3     53         15719        2003    36  ...       P I F             0   \n",
       "4     53         16840        2006   240  ...       P I F             0   \n",
       "\n",
       "   GrAppv  SBA_Appv  New  RealEstate Portion Recession  daysterm       xx  \n",
       "0   30000     15000    0           0     0.5         0      1080  16175.0  \n",
       "1   30000     15000    0           0     0.5         1      1680  17658.0  \n",
       "2   30000     15000    0           0     0.5         0      1080  16298.0  \n",
       "3   50000     25000    0           0     0.5         0      1080  16816.0  \n",
       "4  343000    343000    0           1     1.0         0      7200  24103.0  \n",
       "\n",
       "[5 rows x 31 columns]"
      ]
     },
     "execution_count": 15,
     "metadata": {},
     "output_type": "execute_result"
    }
   ],
   "source": [
    "# shifting the target column as the first column\n",
    "# a pre-requiery for using XGBoost\n",
    "default = df['Default']\n",
    "df.drop(columns=['Default'], inplace=True)\n",
    "df.insert(0, 'Default', default)\n",
    "\n",
    "df.head()"
   ]
  },
  {
   "cell_type": "code",
   "execution_count": 16,
   "id": "0cdb6df4",
   "metadata": {},
   "outputs": [
    {
     "data": {
      "text/plain": [
       "(array([1405.,    0.,    0.,    0.,    0.,    0.,    0.,    0.,    0.,\n",
       "         685.]),\n",
       " array([0. , 0.1, 0.2, 0.3, 0.4, 0.5, 0.6, 0.7, 0.8, 0.9, 1. ]),\n",
       " <BarContainer object of 10 artists>)"
      ]
     },
     "execution_count": 16,
     "metadata": {},
     "output_type": "execute_result"
    },
    {
     "data": {
      "image/png": "[encoded data removed]",
      "text/plain": [
       "<Figure size 640x480 with 1 Axes>"
      ]
     },
     "metadata": {},
     "output_type": "display_data"
    }
   ],
   "source": [
    "#checking the label data distribution\n",
    "plt.hist(df['Default'])"
   ]
  },
  {
   "cell_type": "markdown",
   "id": "264d3659",
   "metadata": {},
   "source": [
    "# Splitting the data and uploading to S3"
   ]
  },
  {
   "cell_type": "code",
   "execution_count": 28,
   "id": "0d9cd3a4",
   "metadata": {},
   "outputs": [
    {
     "name": "stdout",
     "output_type": "stream",
     "text": [
      "(1463, 31)\n",
      "(418, 31)\n",
      "(209, 31)\n"
     ]
    },
    {
     "name": "stderr",
     "output_type": "stream",
     "text": [
      "/home/ec2-user/anaconda3/envs/python3/lib/python3.10/site-packages/numpy/core/fromnumeric.py:57: FutureWarning: 'DataFrame.swapaxes' is deprecated and will be removed in a future version. Please use 'DataFrame.transpose' instead.\n",
      "  return bound(*args, **kwds)\n"
     ]
    },
    {
     "data": {
      "text/plain": [
       "\"\\nimport pandas as pd\\n\\n# Assuming 'df' is your pandas DataFrame\\n# Shuffle the DataFrame\\ndf_shuffled = df.sample(frac=1, random_state=42)\\n\\n# Calculate split indices\\ntrain_end_idx = int(0.7 * len(df_shuffled))\\nvalidation_end_idx = int(0.9 * len(df_shuffled))\\n\\n# Split the DataFrame\\ntrain_data = df_shuffled[:train_end_idx]\\nvalidation_data = df_shuffled[train_end_idx:validation_end_idx]\\ntest_data = df_shuffled[validation_end_idx:]\\n\\n# Print shapes\\nprint(train_data.shape)\\nprint(validation_data.shape)\\nprint(test_data.shape)\\n\""
      ]
     },
     "execution_count": 28,
     "metadata": {},
     "output_type": "execute_result"
    }
   ],
   "source": [
    "train_data, validation_data, test_data = np.split(\n",
    "    df.sample(frac=1, random_state=0),\n",
    "    [int(0.7 * len(df)), int(0.9 * len(df))],\n",
    ")\n",
    "print(train_data.shape)\n",
    "print(validation_data.shape)\n",
    "print(test_data.shape)\n"
   ]
  },
  {
   "cell_type": "code",
   "execution_count": 29,
   "id": "7065a26a",
   "metadata": {},
   "outputs": [
    {
     "name": "stdout",
     "output_type": "stream",
     "text": [
      "<class 'pandas.core.frame.DataFrame'>\n",
      "Index: 1463 entries, 233 to 780\n",
      "Data columns (total 31 columns):\n",
      " #   Column             Non-Null Count  Dtype  \n",
      "---  ------             --------------  -----  \n",
      " 0   Default            1463 non-null   int64  \n",
      " 1   City               1463 non-null   object \n",
      " 2   State              1463 non-null   object \n",
      " 3   Zip                1463 non-null   int64  \n",
      " 4   Bank               1463 non-null   object \n",
      " 5   BankState          1463 non-null   object \n",
      " 6   NAICS              1463 non-null   int64  \n",
      " 7   ApprovalDate       1463 non-null   int64  \n",
      " 8   ApprovalFY         1463 non-null   int64  \n",
      " 9   Term               1463 non-null   int64  \n",
      " 10  NoEmp              1463 non-null   int64  \n",
      " 11  NewExist           1463 non-null   float64\n",
      " 12  CreateJob          1463 non-null   int64  \n",
      " 13  RetainedJob        1463 non-null   int64  \n",
      " 14  FranchiseCode      1463 non-null   int64  \n",
      " 15  UrbanRural         1463 non-null   int64  \n",
      " 16  RevLineCr          1463 non-null   object \n",
      " 17  LowDoc             1463 non-null   object \n",
      " 18  DisbursementDate   1463 non-null   float64\n",
      " 19  DisbursementGross  1463 non-null   int64  \n",
      " 20  BalanceGross       1463 non-null   int64  \n",
      " 21  MIS_Status         1463 non-null   object \n",
      " 22  ChgOffPrinGr       1463 non-null   int64  \n",
      " 23  GrAppv             1463 non-null   int64  \n",
      " 24  SBA_Appv           1463 non-null   int64  \n",
      " 25  New                1463 non-null   int64  \n",
      " 26  RealEstate         1463 non-null   int64  \n",
      " 27  Portion            1463 non-null   float64\n",
      " 28  Recession          1463 non-null   int64  \n",
      " 29  daysterm           1463 non-null   int64  \n",
      " 30  xx                 1463 non-null   float64\n",
      "dtypes: float64(4), int64(20), object(7)\n",
      "memory usage: 365.8+ KB\n"
     ]
    }
   ],
   "source": [
    "train_data.info()"
   ]
  },
  {
   "cell_type": "markdown",
   "id": "20682d45",
   "metadata": {},
   "source": [
    "### Assuming target column name  is the name of our first column, which is our target variable"
   ]
  },
  {
   "cell_type": "code",
   "execution_count": 30,
   "id": "0701316a",
   "metadata": {},
   "outputs": [],
   "source": [
    "# we save the train validation and test frames as csv files\n",
    "\n",
    "\n",
    "train_data.to_csv(\"train.csv\", index=False)\n",
    "\n",
    "\n",
    "validation_data.to_csv(\"validation.csv\", index=False)\n",
    "\n",
    "test_y = test_data['Default']  # This extracts the target column\n",
    "test_X = test_data.drop(columns=['Default'])  # This drops the target column from the test data\n",
    "\n",
    "# Now, saving them to CSV files without the index\n",
    "test_y.to_csv(\"test_y.csv\", index=False)\n",
    "test_X.to_csv(\"test_X.csv\", index=False)\n"
   ]
  },
  {
   "cell_type": "code",
   "execution_count": 31,
   "id": "b04ab22c",
   "metadata": {},
   "outputs": [
    {
     "data": {
      "text/html": [
       "<div>\n",
       "<style scoped>\n",
       "    .dataframe tbody tr th:only-of-type {\n",
       "        vertical-align: middle;\n",
       "    }\n",
       "\n",
       "    .dataframe tbody tr th {\n",
       "        vertical-align: top;\n",
       "    }\n",
       "\n",
       "    .dataframe thead th {\n",
       "        text-align: right;\n",
       "    }\n",
       "</style>\n",
       "<table border=\"1\" class=\"dataframe\">\n",
       "  <thead>\n",
       "    <tr style=\"text-align: right;\">\n",
       "      <th></th>\n",
       "      <th>Default</th>\n",
       "      <th>City</th>\n",
       "      <th>State</th>\n",
       "      <th>Zip</th>\n",
       "      <th>Bank</th>\n",
       "      <th>BankState</th>\n",
       "      <th>NAICS</th>\n",
       "      <th>ApprovalDate</th>\n",
       "      <th>ApprovalFY</th>\n",
       "      <th>Term</th>\n",
       "      <th>...</th>\n",
       "      <th>MIS_Status</th>\n",
       "      <th>ChgOffPrinGr</th>\n",
       "      <th>GrAppv</th>\n",
       "      <th>SBA_Appv</th>\n",
       "      <th>New</th>\n",
       "      <th>RealEstate</th>\n",
       "      <th>Portion</th>\n",
       "      <th>Recession</th>\n",
       "      <th>daysterm</th>\n",
       "      <th>xx</th>\n",
       "    </tr>\n",
       "  </thead>\n",
       "  <tbody>\n",
       "    <tr>\n",
       "      <th>1381</th>\n",
       "      <td>1</td>\n",
       "      <td>LAGUNA NIGUEL</td>\n",
       "      <td>CA</td>\n",
       "      <td>92677</td>\n",
       "      <td>CALIFORNIA BANK  TRUST</td>\n",
       "      <td>CA</td>\n",
       "      <td>53</td>\n",
       "      <td>15561</td>\n",
       "      <td>2002</td>\n",
       "      <td>13</td>\n",
       "      <td>...</td>\n",
       "      <td>CHGOFF</td>\n",
       "      <td>47142</td>\n",
       "      <td>150000</td>\n",
       "      <td>127500</td>\n",
       "      <td>0</td>\n",
       "      <td>0</td>\n",
       "      <td>0.85</td>\n",
       "      <td>0</td>\n",
       "      <td>390</td>\n",
       "      <td>15973.0</td>\n",
       "    </tr>\n",
       "    <tr>\n",
       "      <th>111</th>\n",
       "      <td>0</td>\n",
       "      <td>CLOVIS</td>\n",
       "      <td>CA</td>\n",
       "      <td>93611</td>\n",
       "      <td>CALIFORNIA BANK  TRUST</td>\n",
       "      <td>CA</td>\n",
       "      <td>53</td>\n",
       "      <td>13676</td>\n",
       "      <td>1997</td>\n",
       "      <td>300</td>\n",
       "      <td>...</td>\n",
       "      <td>P I F</td>\n",
       "      <td>0</td>\n",
       "      <td>302000</td>\n",
       "      <td>226500</td>\n",
       "      <td>0</td>\n",
       "      <td>1</td>\n",
       "      <td>0.75</td>\n",
       "      <td>0</td>\n",
       "      <td>9000</td>\n",
       "      <td>23425.0</td>\n",
       "    </tr>\n",
       "    <tr>\n",
       "      <th>166</th>\n",
       "      <td>1</td>\n",
       "      <td>SACRAMENTO</td>\n",
       "      <td>CA</td>\n",
       "      <td>95825</td>\n",
       "      <td>BANK OF AMERICA NATL ASSOC</td>\n",
       "      <td>NC</td>\n",
       "      <td>53</td>\n",
       "      <td>16762</td>\n",
       "      <td>2006</td>\n",
       "      <td>51</td>\n",
       "      <td>...</td>\n",
       "      <td>CHGOFF</td>\n",
       "      <td>50000</td>\n",
       "      <td>50000</td>\n",
       "      <td>25000</td>\n",
       "      <td>0</td>\n",
       "      <td>0</td>\n",
       "      <td>0.50</td>\n",
       "      <td>0</td>\n",
       "      <td>1530</td>\n",
       "      <td>18331.0</td>\n",
       "    </tr>\n",
       "    <tr>\n",
       "      <th>779</th>\n",
       "      <td>1</td>\n",
       "      <td>OXNARD</td>\n",
       "      <td>CA</td>\n",
       "      <td>93030</td>\n",
       "      <td>CAPITAL ONE NATL ASSOC</td>\n",
       "      <td>VA</td>\n",
       "      <td>53</td>\n",
       "      <td>17444</td>\n",
       "      <td>2008</td>\n",
       "      <td>67</td>\n",
       "      <td>...</td>\n",
       "      <td>CHGOFF</td>\n",
       "      <td>28276</td>\n",
       "      <td>35000</td>\n",
       "      <td>17500</td>\n",
       "      <td>0</td>\n",
       "      <td>0</td>\n",
       "      <td>0.50</td>\n",
       "      <td>0</td>\n",
       "      <td>2010</td>\n",
       "      <td>19510.0</td>\n",
       "    </tr>\n",
       "    <tr>\n",
       "      <th>207</th>\n",
       "      <td>0</td>\n",
       "      <td>OAKDALE</td>\n",
       "      <td>CA</td>\n",
       "      <td>95361</td>\n",
       "      <td>BANK OF AMERICA NATL ASSOC</td>\n",
       "      <td>NC</td>\n",
       "      <td>53</td>\n",
       "      <td>16860</td>\n",
       "      <td>2006</td>\n",
       "      <td>84</td>\n",
       "      <td>...</td>\n",
       "      <td>P I F</td>\n",
       "      <td>0</td>\n",
       "      <td>100000</td>\n",
       "      <td>50000</td>\n",
       "      <td>0</td>\n",
       "      <td>0</td>\n",
       "      <td>0.50</td>\n",
       "      <td>0</td>\n",
       "      <td>2520</td>\n",
       "      <td>19411.0</td>\n",
       "    </tr>\n",
       "  </tbody>\n",
       "</table>\n",
       "<p>5 rows × 31 columns</p>\n",
       "</div>"
      ],
      "text/plain": [
       "      Default           City State    Zip                        Bank  \\\n",
       "1381        1  LAGUNA NIGUEL    CA  92677      CALIFORNIA BANK  TRUST   \n",
       "111         0         CLOVIS    CA  93611      CALIFORNIA BANK  TRUST   \n",
       "166         1     SACRAMENTO    CA  95825  BANK OF AMERICA NATL ASSOC   \n",
       "779         1         OXNARD    CA  93030      CAPITAL ONE NATL ASSOC   \n",
       "207         0        OAKDALE    CA  95361  BANK OF AMERICA NATL ASSOC   \n",
       "\n",
       "     BankState  NAICS  ApprovalDate  ApprovalFY  Term  ...  MIS_Status  \\\n",
       "1381        CA     53         15561        2002    13  ...      CHGOFF   \n",
       "111         CA     53         13676        1997   300  ...       P I F   \n",
       "166         NC     53         16762        2006    51  ...      CHGOFF   \n",
       "779         VA     53         17444        2008    67  ...      CHGOFF   \n",
       "207         NC     53         16860        2006    84  ...       P I F   \n",
       "\n",
       "      ChgOffPrinGr  GrAppv  SBA_Appv  New  RealEstate Portion Recession  \\\n",
       "1381         47142  150000    127500    0           0    0.85         0   \n",
       "111              0  302000    226500    0           1    0.75         0   \n",
       "166          50000   50000     25000    0           0    0.50         0   \n",
       "779          28276   35000     17500    0           0    0.50         0   \n",
       "207              0  100000     50000    0           0    0.50         0   \n",
       "\n",
       "      daysterm       xx  \n",
       "1381       390  15973.0  \n",
       "111       9000  23425.0  \n",
       "166       1530  18331.0  \n",
       "779       2010  19510.0  \n",
       "207       2520  19411.0  \n",
       "\n",
       "[5 rows x 31 columns]"
      ]
     },
     "execution_count": 31,
     "metadata": {},
     "output_type": "execute_result"
    }
   ],
   "source": [
    "test_data.head()"
   ]
  },
  {
   "cell_type": "code",
   "execution_count": 32,
   "id": "47aecd24",
   "metadata": {},
   "outputs": [
    {
     "name": "stdout",
     "output_type": "stream",
     "text": [
      "upload: ./train.csv to s3://pipelining/Training/train.csv           \n",
      "upload: ./validation.csv to s3://pipelining/Validation/validatioan.csv\n",
      "upload: ./test_X.csv to s3://pipelining/Testing/test_X.csv        \n",
      "upload: ./test_y.csv to s3://pipelining/Testing/test_y.csv        \n"
     ]
    }
   ],
   "source": [
    "# We upload those csv files to the s3 \n",
    "!aws s3 cp ./train.csv s3://pipelining/Training/train.csv\n",
    "!aws s3 cp ./validation.csv s3://pipelining/Validation/validatioan.csv\n",
    "!aws s3 cp ./test_X.csv s3://pipelining/Testing/test_X.csv\n",
    "!aws s3 cp ./test_y.csv s3://pipelining/Testing/test_y.csv\n"
   ]
  },
  {
   "cell_type": "markdown",
   "id": "e174f780",
   "metadata": {},
   "source": [
    "# Hyperparameter Tuning"
   ]
  },
  {
   "cell_type": "code",
   "execution_count": 33,
   "id": "eb7735e4",
   "metadata": {},
   "outputs": [
    {
     "name": "stdout",
     "output_type": "stream",
     "text": [
      "xgboost-tuningjob-10-04-29-33\n"
     ]
    }
   ],
   "source": [
    "#setting hyper parameter tuning job config\n",
    "from time import gmtime, strftime, sleep\n",
    "\n",
    "tuning_job_name = \"xgboost-tuningjob-\" + strftime(\"%d-%H-%M-%S\", gmtime())\n",
    "\n",
    "print(tuning_job_name)\n",
    "\n",
    "tuning_job_config = {\n",
    "    \"ParameterRanges\": {\n",
    "        \"CategoricalParameterRanges\": [],\n",
    "        \"ContinuousParameterRanges\": [\n",
    "            {\n",
    "                \"MaxValue\": \"1\",\n",
    "                \"MinValue\": \"0\",\n",
    "                \"Name\": \"eta\",\n",
    "            },\n",
    "            {\n",
    "                \"MaxValue\": \"10\",\n",
    "                \"MinValue\": \"1\",\n",
    "                \"Name\": \"min_child_weight\",\n",
    "            },\n",
    "            {\n",
    "                \"MaxValue\": \"2\",\n",
    "                \"MinValue\": \"0\",\n",
    "                \"Name\": \"alpha\",\n",
    "            },\n",
    "        ],\n",
    "        \"IntegerParameterRanges\": [\n",
    "            {\n",
    "                \"MaxValue\": \"10\",\n",
    "                \"MinValue\": \"1\",\n",
    "                \"Name\": \"max_depth\",\n",
    "            }\n",
    "        ],\n",
    "    },\n",
    "    \"ResourceLimits\": {\"MaxNumberOfTrainingJobs\": 11, \"MaxParallelTrainingJobs\": 2},\n",
    "    \"Strategy\": \"Bayesian\",\n",
    "    \"HyperParameterTuningJobObjective\": {\"MetricName\": \"validation:logloss\", \"Type\": \"Minimize\"},\n",
    "}"
   ]
  },
  {
   "cell_type": "code",
   "execution_count": 34,
   "id": "11cfe9cb",
   "metadata": {},
   "outputs": [],
   "source": [
    "#Training job definition for HPO\n",
    "\n",
    "bucket = 'pipelining'\n",
    "prefix = ''\n",
    "#from sagemaker.amazon.amazon_estimator import get_image_uri\n",
    "from sagemaker.image_uris import retrieve\n",
    "training_image = retrieve(framework=\"xgboost\", region=region, version=\"1.7-1\")\n",
    "\n",
    "s3_input_train = \"s3://{}/Training\".format(bucket)\n",
    "s3_input_validation = \"s3://{}/Validation/\".format(bucket)\n",
    "\n",
    "#sagemaker_client = boto3.client('sagemaker')\n",
    "#s3_client = boto3.client('s3')\n",
    "\n",
    "\n",
    "training_job_definition = {\n",
    "    \"AlgorithmSpecification\": {\"TrainingImage\": training_image, \"TrainingInputMode\": \"File\"},\n",
    "    \"InputDataConfig\": [\n",
    "        {\n",
    "            \"ChannelName\": \"train\",\n",
    "            \"CompressionType\": \"None\",\n",
    "            \"ContentType\": \"csv\",\n",
    "            \"DataSource\": {\n",
    "                \"S3DataSource\": {\n",
    "                    \"S3DataDistributionType\": \"FullyReplicated\",\n",
    "                    \"S3DataType\": \"S3Prefix\",\n",
    "                    \"S3Uri\": s3_input_train,\n",
    "                }\n",
    "            },\n",
    "        },\n",
    "        {\n",
    "            \"ChannelName\": \"validation\",\n",
    "            \"CompressionType\": \"None\",\n",
    "            \"ContentType\": \"csv\",\n",
    "            \"DataSource\": {\n",
    "                \"S3DataSource\": {\n",
    "                    \"S3DataDistributionType\": \"FullyReplicated\",\n",
    "                    \"S3DataType\": \"S3Prefix\",\n",
    "                    \"S3Uri\": s3_input_validation,\n",
    "                }\n",
    "            },\n",
    "        },\n",
    "    ],\n",
    "    \"OutputDataConfig\": {\"S3OutputPath\": \"s3://{}/output\".format(bucket)},\n",
    "    \"ResourceConfig\": {\"InstanceCount\": 1, \"InstanceType\": \"ml.m4.xlarge\", \"VolumeSizeInGB\": 10},\n",
    "    \"RoleArn\": role,\n",
    "    \"StaticHyperParameters\": {\n",
    "        \"eval_metric\": \"auc\",\n",
    "        \"num_round\": \"100\",\n",
    "        #\"objective\": \"binary:hinge\",\n",
    "        \"objective\": \"binary:logistic\",\n",
    "        \"rate_drop\": \"0.3\",\n",
    "        \"tweedie_variance_power\": \"1.4\",\n",
    "    },\n",
    "    \"StoppingCondition\": {\"MaxRuntimeInSeconds\": 43200},\n",
    "}\n"
   ]
  },
  {
   "cell_type": "code",
   "execution_count": 35,
   "id": "0661f11d",
   "metadata": {},
   "outputs": [
    {
     "data": {
      "text/plain": [
       "{'HyperParameterTuningJobArn': 'arn:aws:sagemaker:us-east-1:490656968305:hyper-parameter-tuning-job/xgboost-tuningjob-10-04-29-33',\n",
       " 'ResponseMetadata': {'RequestId': '2af6b343-a24b-40e9-b41d-8e0f2a33f621',\n",
       "  'HTTPStatusCode': 200,\n",
       "  'HTTPHeaders': {'x-amzn-requestid': '2af6b343-a24b-40e9-b41d-8e0f2a33f621',\n",
       "   'content-type': 'application/x-amz-json-1.1',\n",
       "   'content-length': '130',\n",
       "   'date': 'Wed, 10 Apr 2024 04:29:42 GMT'},\n",
       "  'RetryAttempts': 0}}"
      ]
     },
     "execution_count": 35,
     "metadata": {},
     "output_type": "execute_result"
    }
   ],
   "source": [
    "# we create the HPO job\n",
    "smclient = boto3.Session().client(\"sagemaker\")\n",
    "\n",
    "smclient.create_hyper_parameter_tuning_job(\n",
    "    HyperParameterTuningJobName=tuning_job_name,\n",
    "    HyperParameterTuningJobConfig=tuning_job_config,\n",
    "    TrainingJobDefinition=training_job_definition,\n",
    ")"
   ]
  },
  {
   "cell_type": "code",
   "execution_count": 39,
   "id": "91afede7",
   "metadata": {},
   "outputs": [
    {
     "data": {
      "text/plain": [
       "'Completed'"
      ]
     },
     "execution_count": 39,
     "metadata": {},
     "output_type": "execute_result"
    }
   ],
   "source": [
    "# show state\n",
    "smclient.describe_hyper_parameter_tuning_job(HyperParameterTuningJobName=tuning_job_name)[\n",
    "    \"HyperParameterTuningJobStatus\"]"
   ]
  },
  {
   "cell_type": "code",
   "execution_count": 40,
   "id": "7bb7b19e",
   "metadata": {},
   "outputs": [
    {
     "name": "stdout",
     "output_type": "stream",
     "text": [
      "Best model found so far:\n",
      "{'CreationTime': datetime.datetime(2024, 4, 10, 4, 34, 51, tzinfo=tzlocal()),\n",
      " 'FinalHyperParameterTuningJobObjectiveMetric': {'MetricName': 'validation:logloss',\n",
      "                                                 'Value': 0.06712999939918518},\n",
      " 'ObjectiveStatus': 'Succeeded',\n",
      " 'TrainingEndTime': datetime.datetime(2024, 4, 10, 4, 35, 31, tzinfo=tzlocal()),\n",
      " 'TrainingJobArn': 'arn:aws:sagemaker:us-east-1:490656968305:training-job/xgboost-tuningjob-10-04-29-33-008-9102068f',\n",
      " 'TrainingJobName': 'xgboost-tuningjob-10-04-29-33-008-9102068f',\n",
      " 'TrainingJobStatus': 'Completed',\n",
      " 'TrainingStartTime': datetime.datetime(2024, 4, 10, 4, 34, 54, tzinfo=tzlocal()),\n",
      " 'TunedHyperParameters': {'alpha': '0.7206201032564015',\n",
      "                          'eta': '0.522315287691574',\n",
      "                          'max_depth': '4',\n",
      "                          'min_child_weight': '9.483273644653213'}}\n"
     ]
    }
   ],
   "source": [
    "# we find the best training job out of the 11 completed\n",
    "from pprint import pprint\n",
    "\n",
    "# run this cell to check current status of hyperparameter tuning job\n",
    "tuning_job_result = smclient.describe_hyper_parameter_tuning_job(\n",
    "    HyperParameterTuningJobName=tuning_job_name\n",
    ")\n",
    "if tuning_job_result.get(\"BestTrainingJob\", None):\n",
    "    print(\"Best model found so far:\")\n",
    "    pprint(tuning_job_result[\"BestTrainingJob\"])\n",
    "else:\n",
    "    print(\"No training jobs have reported results yet.\")"
   ]
  },
  {
   "cell_type": "markdown",
   "id": "8bbc97b7",
   "metadata": {},
   "source": [
    "# Hosting"
   ]
  },
  {
   "cell_type": "code",
   "execution_count": 61,
   "id": "02d7ab9e",
   "metadata": {},
   "outputs": [
    {
     "data": {
      "text/plain": [
       "'\\n# Now we choose the best training job resulted in HPO\\nTrainingJobName2 = \\'xgboost-tuningjob-10-04-29-33-002-a3f02998\\'\\n\\n#Now that we\\'ve trained the algorithm on our data, let\\'s setup a model which can later be hosted.  We will:\\n#1. Point to the scoring container\\n#1. Point to the model.tar.gz that came from training\\n#1. Create the hosting model\\n\\ncontainer2 = retrieve(framework=\"xgboost\", region=region, version=\"1.0-1\")\\n\\nsm_client = boto3.client(\\'sagemaker\\', region_name=region)\\nxgboost_hosting_container = {\\n    \"Image\": container,\\n    \"ModelDataUrl\": sm_client.describe_training_job(TrainingJobName=TrainingJobName2)    [\"ModelArtifacts\"][\\n        \"S3ModelArtifacts\"\\n    ],\\n}\\n\\ncreate_model_response = sm_client.create_model(\\n    ModelName=TrainingJobName, ExecutionRoleArn=role, PrimaryContainer=xgboost_hosting_container\\n)\\n\\nprint(create_model_response[\"ModelArn\"])\\n\\n'"
      ]
     },
     "execution_count": 61,
     "metadata": {},
     "output_type": "execute_result"
    }
   ],
   "source": [
    "\n",
    "from sagemaker.image_uris import retrieve\n",
    "\n",
    "# Now we choose the best training job resulted in HPO\n",
    "TrainingJobName = 'xgboost-tuningjob-10-04-29-33-008-9102068f'\n",
    "\n",
    "#Now that we've trained the algorithm on our data, let's setup a model which can later be hosted.  We will:\n",
    "#1. Point to the scoring container\n",
    "#1. Point to the model.tar.gz that came from training\n",
    "#1. Create the hosting model\n",
    "\n",
    "container = retrieve(framework=\"xgboost\", region=region, version=\"1.7-1\")\n",
    "\n",
    "sm_client = boto3.client('sagemaker', region_name=region)\n",
    "xgboost_hosting_container = {\n",
    "    \"Image\": container,\n",
    "    \"ModelDataUrl\": sm_client.describe_training_job(TrainingJobName=TrainingJobName)\\\n",
    "    [\"ModelArtifacts\"][\n",
    "        \"S3ModelArtifacts\"\n",
    "    ],\n",
    "}\n",
    "\n",
    "create_model_response = sm_client.create_model(\n",
    "    ModelName=TrainingJobName, ExecutionRoleArn=role, PrimaryContainer=xgboost_hosting_container\n",
    ")\n",
    "\n",
    "print(create_model_response[\"ModelArn\"])\n",
    "\n",
    "\n",
    "# second endpoint config\n",
    "\n",
    "'''\n",
    "# Now we choose the best training job resulted in HPO\n",
    "TrainingJobName2 = 'xgboost-tuningjob-10-04-29-33-002-a3f02998'\n",
    "\n",
    "#Now that we've trained the algorithm on our data, let's setup a model which can later be hosted.  We will:\n",
    "#1. Point to the scoring container\n",
    "#1. Point to the model.tar.gz that came from training\n",
    "#1. Create the hosting model\n",
    "\n",
    "container2 = retrieve(framework=\"xgboost\", region=region, version=\"1.0-1\")\n",
    "\n",
    "sm_client = boto3.client('sagemaker', region_name=region)\n",
    "xgboost_hosting_container = {\n",
    "    \"Image\": container,\n",
    "    \"ModelDataUrl\": sm_client.describe_training_job(TrainingJobName=TrainingJobName2)\\\n",
    "    [\"ModelArtifacts\"][\n",
    "        \"S3ModelArtifacts\"\n",
    "    ],\n",
    "}\n",
    "\n",
    "create_model_response = sm_client.create_model(\n",
    "    ModelName=TrainingJobName, ExecutionRoleArn=role, PrimaryContainer=xgboost_hosting_container\n",
    ")\n",
    "\n",
    "print(create_model_response[\"ModelArn\"])\n",
    "\n",
    "'''"
   ]
  },
  {
   "cell_type": "markdown",
   "id": "d5d2239d",
   "metadata": {},
   "source": [
    "# Checkpoint!"
   ]
  },
  {
   "cell_type": "code",
   "execution_count": 8,
   "id": "fb997638",
   "metadata": {},
   "outputs": [],
   "source": [
    "TrainingJobName = 'xgboost-tuningjob-10-04-29-33-008-9102068f'"
   ]
  },
  {
   "cell_type": "code",
   "execution_count": 9,
   "id": "901ebd46",
   "metadata": {},
   "outputs": [
    {
     "name": "stdout",
     "output_type": "stream",
     "text": [
      "xgboost-endpoint-config-2024-04-16-04-15-59\n",
      "Endpoint Config Arn: arn:aws:sagemaker:us-east-1:490656968305:endpoint-config/xgboost-endpoint-config-2024-04-16-04-15-59\n"
     ]
    }
   ],
   "source": [
    "#endpoint config\n",
    "\n",
    "import time\n",
    "xgboost_endpoint_config = \"xgboost-endpoint-config-\" + time.strftime(\n",
    "    \"%Y-%m-%d-%H-%M-%S\", time.gmtime()\n",
    ")\n",
    "print(xgboost_endpoint_config)\n",
    "create_endpoint_config_response = sm.create_endpoint_config(\n",
    "    EndpointConfigName=xgboost_endpoint_config,\n",
    "    ProductionVariants=[\n",
    "        {\n",
    "            \"InstanceType\": \"ml.m5.xlarge\",\n",
    "            \"InitialInstanceCount\": 3,\n",
    "            \"ModelName\": TrainingJobName,\n",
    "            \"VariantName\": \"AllTraffic\",\n",
    "        }\n",
    "    ],\n",
    ")\n",
    "\n",
    "print(\"Endpoint Config Arn: \" + create_endpoint_config_response[\"EndpointConfigArn\"])"
   ]
  },
  {
   "cell_type": "code",
   "execution_count": 4,
   "id": "8e39c93e",
   "metadata": {},
   "outputs": [],
   "source": [
    "import time\n",
    "from time import gmtime, strftime, sleep\n",
    "from datetime import datetime\n",
    "sm = boto3.Session().client(\"sagemaker\")\n"
   ]
  },
  {
   "cell_type": "markdown",
   "id": "4e9131b7",
   "metadata": {},
   "source": [
    "\n",
    "# Creating endpoint"
   ]
  },
  {
   "cell_type": "code",
   "execution_count": 10,
   "id": "76acf619",
   "metadata": {},
   "outputs": [
    {
     "name": "stdout",
     "output_type": "stream",
     "text": [
      "Endpoint Name: DEMO-Deployment-Guardrails-Canary-2024-04-16-04-16-12\n",
      "\n",
      "Created Endpoint: {'EndpointArn': 'arn:aws:sagemaker:us-east-1:490656968305:endpoint/DEMO-Deployment-Guardrails-Canary-2024-04-16-04-16-12', 'ResponseMetadata': {'RequestId': 'c0b21ccc-3523-4ce7-9bfa-89ad492c413e', 'HTTPStatusCode': 200, 'HTTPHeaders': {'x-amzn-requestid': 'c0b21ccc-3523-4ce7-9bfa-89ad492c413e', 'content-type': 'application/x-amz-json-1.1', 'content-length': '121', 'date': 'Tue, 16 Apr 2024 04:16:12 GMT'}, 'RetryAttempts': 0}}\n"
     ]
    }
   ],
   "source": [
    "ep_config_name = xgboost_endpoint_config\n",
    "\n",
    "endpoint_name = f\"DEMO-Deployment-Guardrails-Canary-{datetime.now():%Y-%m-%d-%H-%M-%S}\"\n",
    "print(f\"Endpoint Name: {endpoint_name}\")\n",
    "\n",
    "resp = sm.create_endpoint(EndpointName=endpoint_name, EndpointConfigName=ep_config_name)\n",
    "print(f\"\\nCreated Endpoint: {resp}\")"
   ]
  },
  {
   "cell_type": "code",
   "execution_count": 11,
   "id": "df5c366e",
   "metadata": {},
   "outputs": [
    {
     "name": "stdout",
     "output_type": "stream",
     "text": [
      "Waiting for endpoint in service\n",
      "...\n",
      "Done!\n"
     ]
    },
    {
     "data": {
      "text/plain": [
       "{'EndpointName': 'DEMO-Deployment-Guardrails-Canary-2024-04-16-04-16-12',\n",
       " 'EndpointArn': 'arn:aws:sagemaker:us-east-1:490656968305:endpoint/DEMO-Deployment-Guardrails-Canary-2024-04-16-04-16-12',\n",
       " 'EndpointConfigName': 'xgboost-endpoint-config-2024-04-16-04-15-59',\n",
       " 'ProductionVariants': [{'VariantName': 'AllTraffic',\n",
       "   'DeployedImages': [{'SpecifiedImage': '683313688378.dkr.ecr.us-east-1.amazonaws.com/sagemaker-xgboost:1.7-1',\n",
       "     'ResolvedImage': '683313688378.dkr.ecr.us-east-1.amazonaws.com/sagemaker-xgboost@sha256:777ccd0b2d755ce43c310d8ee37502e51342f243279ae400cafe6b54b32dd271',\n",
       "     'ResolutionTime': datetime.datetime(2024, 4, 16, 4, 16, 13, 399000, tzinfo=tzlocal())}],\n",
       "   'CurrentWeight': 1.0,\n",
       "   'DesiredWeight': 1.0,\n",
       "   'CurrentInstanceCount': 3,\n",
       "   'DesiredInstanceCount': 3}],\n",
       " 'EndpointStatus': 'InService',\n",
       " 'CreationTime': datetime.datetime(2024, 4, 16, 4, 16, 12, 824000, tzinfo=tzlocal()),\n",
       " 'LastModifiedTime': datetime.datetime(2024, 4, 16, 4, 19, 8, 562000, tzinfo=tzlocal()),\n",
       " 'ResponseMetadata': {'RequestId': 'c610a045-3528-47d1-af44-3a39ac8cc72b',\n",
       "  'HTTPStatusCode': 200,\n",
       "  'HTTPHeaders': {'x-amzn-requestid': 'c610a045-3528-47d1-af44-3a39ac8cc72b',\n",
       "   'content-type': 'application/x-amz-json-1.1',\n",
       "   'content-length': '794',\n",
       "   'date': 'Tue, 16 Apr 2024 04:19:36 GMT'},\n",
       "  'RetryAttempts': 0}}"
      ]
     },
     "execution_count": 11,
     "metadata": {},
     "output_type": "execute_result"
    }
   ],
   "source": [
    "#checking for endpoint creation\n",
    "def wait_for_endpoint_in_service(endpoint_name):\n",
    "    print(\"Waiting for endpoint in service\")\n",
    "    while True:\n",
    "        details = sm.describe_endpoint(EndpointName=endpoint_name)\n",
    "        status = details[\"EndpointStatus\"]\n",
    "        if status in [\"InService\", \"Failed\"]:\n",
    "            print(\"\\nDone!\")\n",
    "            break\n",
    "        print(\".\", end=\"\", flush=True)\n",
    "        time.sleep(30)\n",
    "\n",
    "\n",
    "wait_for_endpoint_in_service(endpoint_name)\n",
    "\n",
    "sm.describe_endpoint(EndpointName=endpoint_name)"
   ]
  },
  {
   "cell_type": "code",
   "execution_count": 13,
   "id": "4a2c59ce",
   "metadata": {},
   "outputs": [],
   "source": [
    "endpoint_name  = \"DEMO-Deployment-Guardrails-Canary-2024-04-15-18-01-04\""
   ]
  },
  {
   "cell_type": "markdown",
   "id": "ad4c039f",
   "metadata": {},
   "source": [
    "# Sending Input columns for Inferencing"
   ]
  },
  {
   "cell_type": "code",
   "execution_count": 14,
   "id": "343c1338",
   "metadata": {},
   "outputs": [],
   "source": [
    "sm_runtime = boto3.Session().client(\"sagemaker-runtime\")\n"
   ]
  },
  {
   "cell_type": "code",
   "execution_count": 16,
   "id": "8f741eb1",
   "metadata": {},
   "outputs": [
    {
     "name": "stdout",
     "output_type": "stream",
     "text": [
      "Sending test traffic to the endpoint DEMO-Deployment-Guardrails-Canary-2024-04-15-18-01-04. \n",
      "Please wait...\n",
      "...................................................\n",
      "Done!\n"
     ]
    }
   ],
   "source": [
    "def invoke_endpoint(\n",
    "    endpoint_name, max_invocations=600, wait_interval_sec=1, should_raise_exp=False\n",
    "):\n",
    "    print(f\"Sending test traffic to the endpoint {endpoint_name}. \\nPlease wait...\")\n",
    "\n",
    "    count = 0\n",
    "    with open(\"test_X_numeric.csv\", \"r\") as f:\n",
    "        for row in f:\n",
    "            payload = row.rstrip(\"\\n\")\n",
    "            try:\n",
    "                response = sm_runtime.invoke_endpoint(\n",
    "                    EndpointName=endpoint_name, ContentType=\"text/csv\", Body=payload\n",
    "                )\n",
    "                response[\"Body\"].read()\n",
    "                print(\".\", end=\"\", flush=True)\n",
    "            except Exception as e:\n",
    "                print(\"E\", end=\"\", flush=True)\n",
    "                if should_raise_exp:\n",
    "                    raise e\n",
    "            count += 1\n",
    "            if count > max_invocations:\n",
    "                break\n",
    "            time.sleep(wait_interval_sec)\n",
    "\n",
    "    print(\"\\nDone!\")\n",
    "\n",
    "\n",
    "invoke_endpoint(endpoint_name, max_invocations=50)"
   ]
  },
  {
   "cell_type": "code",
   "execution_count": 18,
   "id": "6985ec56",
   "metadata": {},
   "outputs": [],
   "source": [
    "from sagemaker.image_uris import retrieve"
   ]
  },
  {
   "cell_type": "code",
   "execution_count": 46,
   "id": "5b5f7a2d",
   "metadata": {},
   "outputs": [
    {
     "name": "stdout",
     "output_type": "stream",
     "text": [
      "Model Image 2: 683313688378.dkr.ecr.us-east-1.amazonaws.com/sagemaker-xgboost:0.90-2-cpu-py3\n",
      "Model Image 2: 683313688378.dkr.ecr.us-east-1.amazonaws.com/sagemaker-xgboost:1.2-1\n",
      "Model Image 3: 683313688378.dkr.ecr.us-east-1.amazonaws.com/sagemaker-xgboost:0.90-1-cpu-py3\n"
     ]
    }
   ],
   "source": [
    "image_uri1 = retrieve(\"xgboost\", boto3.Session().region_name, \"0.90-2\")\n",
    "image_uri2 = retrieve(\"xgboost\", boto3.Session().region_name, \"1.2-1\")\n",
    "image_uri3 = retrieve(\"xgboost\", boto3.Session().region_name, \"0.90-1\")\n",
    "\n",
    "print(f\"Model Image 2: {image_uri1}\")\n",
    "print(f\"Model Image 2: {image_uri2}\")\n",
    "print(f\"Model Image 3: {image_uri3}\")"
   ]
  },
  {
   "cell_type": "code",
   "execution_count": 20,
   "id": "e6e59080",
   "metadata": {},
   "outputs": [],
   "source": [
    "TrainingJobName2 = \"xgboost-tuningjob-16-01-05-42-002-1ba4cd90\"\n"
   ]
  },
  {
   "cell_type": "code",
   "execution_count": 22,
   "id": "514287e8",
   "metadata": {},
   "outputs": [],
   "source": [
    " model_url2 = sm.describe_training_job(TrainingJobName=TrainingJobName2)\\\n",
    "    [\"ModelArtifacts\"][\n",
    "        \"S3ModelArtifacts\"]\n"
   ]
  },
  {
   "cell_type": "code",
   "execution_count": 23,
   "id": "ab92d51e",
   "metadata": {},
   "outputs": [
    {
     "data": {
      "text/plain": [
       "'s3://pipelining/output/xgboost-tuningjob-16-01-05-42-002-1ba4cd90/output/model.tar.gz'"
      ]
     },
     "execution_count": 23,
     "metadata": {},
     "output_type": "execute_result"
    }
   ],
   "source": [
    "model_url2"
   ]
  },
  {
   "cell_type": "code",
   "execution_count": 51,
   "id": "57ec778b",
   "metadata": {},
   "outputs": [
    {
     "name": "stdout",
     "output_type": "stream",
     "text": [
      "Model Name 1: DEMO-xgb-pred1-2024-04-16-05-04-20\n",
      "Created Model: {'ModelArn': 'arn:aws:sagemaker:us-east-1:490656968305:model/DEMO-xgb-pred1-2024-04-16-05-04-20', 'ResponseMetadata': {'RequestId': '4e135c51-e9ed-4dc5-b7f0-f895fa4a8b41', 'HTTPStatusCode': 200, 'HTTPHeaders': {'x-amzn-requestid': '4e135c51-e9ed-4dc5-b7f0-f895fa4a8b41', 'content-type': 'application/x-amz-json-1.1', 'content-length': '96', 'date': 'Tue, 16 Apr 2024 05:04:21 GMT'}, 'RetryAttempts': 0}}\n"
     ]
    }
   ],
   "source": [
    "model_name1 = f\"DEMO-xgb-pred1-{datetime.now():%Y-%m-%d-%H-%M-%S}\"\n",
    "\n",
    "\n",
    "\n",
    "print(f\"Model Name 1: {model_name1}\")\n",
    "\n",
    "\n",
    "\n",
    "\n",
    "resp = sm.create_model(\n",
    "    ModelName=model_name1,\n",
    "    ExecutionRoleArn=role,\n",
    "    Containers=[{\"Image\": image_uri1, \"ModelDataUrl\": model_url2}],\n",
    ")\n",
    "print(f\"Created Model: {resp}\")\n",
    "\n"
   ]
  },
  {
   "cell_type": "code",
   "execution_count": 39,
   "id": "56c1a9b8",
   "metadata": {},
   "outputs": [
    {
     "name": "stdout",
     "output_type": "stream",
     "text": [
      "Model Name 2: DEMO-xgb-pred2-2024-04-16-04-46-15\n",
      "Model Name 3: DEMO-xgb-pred3-2024-04-16-04-46-15\n",
      "Created Model: {'ModelArn': 'arn:aws:sagemaker:us-east-1:490656968305:model/DEMO-xgb-pred2-2024-04-16-04-46-15', 'ResponseMetadata': {'RequestId': 'e7322647-d41c-4b33-bce3-80b47aa72bc5', 'HTTPStatusCode': 200, 'HTTPHeaders': {'x-amzn-requestid': 'e7322647-d41c-4b33-bce3-80b47aa72bc5', 'content-type': 'application/x-amz-json-1.1', 'content-length': '96', 'date': 'Tue, 16 Apr 2024 04:46:15 GMT'}, 'RetryAttempts': 0}}\n",
      "Created Model: {'ModelArn': 'arn:aws:sagemaker:us-east-1:490656968305:model/DEMO-xgb-pred3-2024-04-16-04-46-15', 'ResponseMetadata': {'RequestId': '2e6f8913-8899-416d-943f-d979fe43ef34', 'HTTPStatusCode': 200, 'HTTPHeaders': {'x-amzn-requestid': '2e6f8913-8899-416d-943f-d979fe43ef34', 'content-type': 'application/x-amz-json-1.1', 'content-length': '96', 'date': 'Tue, 16 Apr 2024 04:46:20 GMT'}, 'RetryAttempts': 3}}\n"
     ]
    },
    {
     "data": {
      "text/plain": [
       "'\\n\\nsm_client = boto3.client(\\'sagemaker\\', region_name=region)\\nxgboost_hosting_container = {\\n    \"Image\": container,\\n    \"ModelDataUrl\": sm_client.describe_training_job(TrainingJobName=TrainingJobName)    [\"ModelArtifacts\"][\\n        \"S3ModelArtifacts\"\\n    ],\\n}\\n\\ncreate_model_response = sm_client.create_model(\\n    ModelName=TrainingJobName, ExecutionRoleArn=role, PrimaryContainer=xgboost_hosting_container\\n)\\n'"
      ]
     },
     "execution_count": 39,
     "metadata": {},
     "output_type": "execute_result"
    }
   ],
   "source": [
    "\n",
    "\n",
    "\n",
    "model_name2 = f\"DEMO-xgb-pred2-{datetime.now():%Y-%m-%d-%H-%M-%S}\"\n",
    "model_name3 = f\"DEMO-xgb-pred3-{datetime.now():%Y-%m-%d-%H-%M-%S}\"\n",
    "\n",
    "\n",
    "print(f\"Model Name 2: {model_name2}\")\n",
    "print(f\"Model Name 3: {model_name3}\")\n",
    "\n",
    "\n",
    "\n",
    "resp = sm.create_model(\n",
    "    ModelName=model_name2,\n",
    "    ExecutionRoleArn=role,\n",
    "    Containers=[{\"Image\": image_uri2, \"ModelDataUrl\": model_url2}],\n",
    ")\n",
    "print(f\"Created Model: {resp}\")\n",
    "\n",
    "resp = sm.create_model(\n",
    "    ModelName=model_name3,\n",
    "    ExecutionRoleArn=role,\n",
    "    Containers=[{\"Image\": image_uri3, \"ModelDataUrl\": model_url2}],\n",
    ")\n",
    "print(f\"Created Model: {resp}\")\n"
   ]
  },
  {
   "cell_type": "code",
   "execution_count": 52,
   "id": "0f9d7dfe",
   "metadata": {},
   "outputs": [
    {
     "name": "stdout",
     "output_type": "stream",
     "text": [
      "Endpoint Config 2: DEMO-EpConfig-2-2024-04-16-04-46-35\n",
      "Created Endpoint Config: {'EndpointConfigArn': 'arn:aws:sagemaker:us-east-1:490656968305:endpoint-config/DEMO-EpConfig-1-2024-04-16-05-04-33', 'ResponseMetadata': {'RequestId': '45f2903e-026a-4e05-b35c-3f54fafbbd4a', 'HTTPStatusCode': 200, 'HTTPHeaders': {'x-amzn-requestid': '45f2903e-026a-4e05-b35c-3f54fafbbd4a', 'content-type': 'application/x-amz-json-1.1', 'content-length': '116', 'date': 'Tue, 16 Apr 2024 05:04:33 GMT'}, 'RetryAttempts': 0}}\n"
     ]
    }
   ],
   "source": [
    "ep_config_name1 = f\"DEMO-EpConfig-1-{datetime.now():%Y-%m-%d-%H-%M-%S}\"\n",
    "\n",
    "print(f\"Endpoint Config 2: {ep_config_name2}\")\n",
    "\n",
    "\n",
    "resp = sm.create_endpoint_config(\n",
    "    EndpointConfigName=ep_config_name1,\n",
    "    ProductionVariants=[\n",
    "        {\n",
    "            \"VariantName\": \"AllTraffic\",\n",
    "            \"ModelName\": model_name1,\n",
    "            \"InstanceType\": \"ml.m5.xlarge\",\n",
    "            \"InitialInstanceCount\": 3,\n",
    "        }\n",
    "    ],\n",
    ")\n",
    "print(f\"Created Endpoint Config: {resp}\")\n",
    "time.sleep(5)"
   ]
  },
  {
   "cell_type": "code",
   "execution_count": 40,
   "id": "d9ff4dda",
   "metadata": {},
   "outputs": [
    {
     "name": "stdout",
     "output_type": "stream",
     "text": [
      "Endpoint Config 2: DEMO-EpConfig-2-2024-04-16-04-46-35\n",
      "Endpoint Config 3: DEMO-EpConfig-3-2024-04-16-04-46-35\n",
      "Created Endpoint Config: {'EndpointConfigArn': 'arn:aws:sagemaker:us-east-1:490656968305:endpoint-config/DEMO-EpConfig-2-2024-04-16-04-46-35', 'ResponseMetadata': {'RequestId': 'c0a8ce8a-38d1-4bbb-b9c6-9d32afd78216', 'HTTPStatusCode': 200, 'HTTPHeaders': {'x-amzn-requestid': 'c0a8ce8a-38d1-4bbb-b9c6-9d32afd78216', 'content-type': 'application/x-amz-json-1.1', 'content-length': '116', 'date': 'Tue, 16 Apr 2024 04:46:35 GMT'}, 'RetryAttempts': 0}}\n",
      "Created Endpoint Config: {'EndpointConfigArn': 'arn:aws:sagemaker:us-east-1:490656968305:endpoint-config/DEMO-EpConfig-3-2024-04-16-04-46-35', 'ResponseMetadata': {'RequestId': '401a2cb1-f255-4628-b980-730d84c5a866', 'HTTPStatusCode': 200, 'HTTPHeaders': {'x-amzn-requestid': '401a2cb1-f255-4628-b980-730d84c5a866', 'content-type': 'application/x-amz-json-1.1', 'content-length': '116', 'date': 'Tue, 16 Apr 2024 04:46:41 GMT'}, 'RetryAttempts': 0}}\n"
     ]
    }
   ],
   "source": [
    "ep_config_name2 = f\"DEMO-EpConfig-2-{datetime.now():%Y-%m-%d-%H-%M-%S}\"\n",
    "ep_config_name3 = f\"DEMO-EpConfig-3-{datetime.now():%Y-%m-%d-%H-%M-%S}\"\n",
    "\n",
    "print(f\"Endpoint Config 2: {ep_config_name2}\")\n",
    "print(f\"Endpoint Config 3: {ep_config_name3}\")\n",
    "\n",
    "\n",
    "resp = sm.create_endpoint_config(\n",
    "    EndpointConfigName=ep_config_name2,\n",
    "    ProductionVariants=[\n",
    "        {\n",
    "            \"VariantName\": \"AllTraffic\",\n",
    "            \"ModelName\": model_name2,\n",
    "            \"InstanceType\": \"ml.m5.xlarge\",\n",
    "            \"InitialInstanceCount\": 3,\n",
    "        }\n",
    "    ],\n",
    ")\n",
    "print(f\"Created Endpoint Config: {resp}\")\n",
    "time.sleep(5)\n",
    "\n",
    "resp = sm.create_endpoint_config(\n",
    "    EndpointConfigName=ep_config_name3,\n",
    "    ProductionVariants=[\n",
    "        {\n",
    "            \"VariantName\": \"AllTraffic\",\n",
    "            \"ModelName\": model_name3,\n",
    "            \"InstanceType\": \"ml.m5.xlarge\",\n",
    "            \"InitialInstanceCount\": 3,\n",
    "        }\n",
    "    ],\n",
    ")\n",
    "print(f\"Created Endpoint Config: {resp}\")\n",
    "time.sleep(5)"
   ]
  },
  {
   "cell_type": "markdown",
   "id": "4a884c14",
   "metadata": {},
   "source": [
    "# Testing the endpoint through invoking"
   ]
  },
  {
   "cell_type": "code",
   "execution_count": 26,
   "id": "f9f99882",
   "metadata": {},
   "outputs": [
    {
     "name": "stdout",
     "output_type": "stream",
     "text": [
      "Sending test traffic to the endpoint DEMO-Deployment-Guardrails-Canary-2024-04-15-18-01-04. \n",
      "Please wait...\n",
      "...............................\n",
      "Done!\n"
     ]
    }
   ],
   "source": [
    "def invoke_endpoint(\n",
    "    endpoint_name, max_invocations=600, wait_interval_sec=1, should_raise_exp=False\n",
    "):\n",
    "    print(f\"Sending test traffic to the endpoint {endpoint_name}. \\nPlease wait...\")\n",
    "\n",
    "    count = 0\n",
    "    with open(\"test_X_numeric.csv\", \"r\") as f:\n",
    "        for row in f:\n",
    "            payload = row.rstrip(\"\\n\")\n",
    "            try:\n",
    "                response = sm_runtime.invoke_endpoint(\n",
    "                    EndpointName=endpoint_name, ContentType=\"text/csv\", Body=payload\n",
    "                )\n",
    "                response[\"Body\"].read()\n",
    "                print(\".\", end=\"\", flush=True)\n",
    "            except Exception as e:\n",
    "                print(\"E\", end=\"\", flush=True)\n",
    "                if should_raise_exp:\n",
    "                    raise e\n",
    "            count += 1\n",
    "            if count > max_invocations:\n",
    "                break\n",
    "            time.sleep(wait_interval_sec)\n",
    "\n",
    "    print(\"\\nDone!\")\n",
    "\n",
    "\n",
    "invoke_endpoint(endpoint_name, max_invocations=30)"
   ]
  },
  {
   "cell_type": "markdown",
   "id": "8f1c0c2c",
   "metadata": {},
   "source": [
    "# Failed Update rollback activation"
   ]
  },
  {
   "cell_type": "code",
   "execution_count": 27,
   "id": "34a7c6f2",
   "metadata": {},
   "outputs": [],
   "source": [
    "cw = boto3.Session().client(\"cloudwatch\", region_name=region)"
   ]
  },
  {
   "cell_type": "code",
   "execution_count": 28,
   "id": "71dac65d",
   "metadata": {},
   "outputs": [],
   "source": [
    "def create_auto_rollback_alarm(\n",
    "    alarm_name, endpoint_name, variant_name, metric_name, statistic, threshold\n",
    "):\n",
    "    cw.put_metric_alarm(\n",
    "        AlarmName=alarm_name,\n",
    "        AlarmDescription=\"Test SageMaker endpoint deployment auto-rollback alarm\",\n",
    "        ActionsEnabled=False,\n",
    "        Namespace=\"AWS/SageMaker\",\n",
    "        MetricName=metric_name,\n",
    "        Statistic=statistic,\n",
    "        Dimensions=[\n",
    "            {\"Name\": \"EndpointName\", \"Value\": endpoint_name},\n",
    "            {\"Name\": \"VariantName\", \"Value\": variant_name},\n",
    "        ],\n",
    "        Period=60,\n",
    "        EvaluationPeriods=1,\n",
    "        Threshold=threshold,\n",
    "        ComparisonOperator=\"GreaterThanOrEqualToThreshold\",\n",
    "        TreatMissingData=\"notBreaching\",\n",
    "    )"
   ]
  },
  {
   "cell_type": "code",
   "execution_count": 29,
   "id": "e96178fe",
   "metadata": {},
   "outputs": [],
   "source": [
    "error_alarm = f\"TestAlarm-5XXErrors-{endpoint_name}\"\n",
    "latency_alarm = f\"TestAlarm-ModelLatency-{endpoint_name}\"\n",
    "\n",
    "# alarm on 1% 5xx error rate for 1 minute\n",
    "create_auto_rollback_alarm(\n",
    "    error_alarm, endpoint_name, \"AllTraffic\", \"Invocation5XXErrors\", \"Average\", 1\n",
    ")\n",
    "# alarm on model latency >= 10 ms for 1 minute\n",
    "create_auto_rollback_alarm(\n",
    "    latency_alarm, endpoint_name, \"AllTraffic\", \"ModelLatency\", \"Average\", 10000\n",
    ")"
   ]
  },
  {
   "cell_type": "code",
   "execution_count": 41,
   "id": "0d858084",
   "metadata": {},
   "outputs": [
    {
     "data": {
      "text/plain": [
       "{'EndpointArn': 'arn:aws:sagemaker:us-east-1:490656968305:endpoint/DEMO-Deployment-Guardrails-Canary-2024-04-15-18-01-04',\n",
       " 'ResponseMetadata': {'RequestId': 'efc1f776-b44c-4962-b4a9-029e9f79610f',\n",
       "  'HTTPStatusCode': 200,\n",
       "  'HTTPHeaders': {'x-amzn-requestid': 'efc1f776-b44c-4962-b4a9-029e9f79610f',\n",
       "   'content-type': 'application/x-amz-json-1.1',\n",
       "   'content-length': '121',\n",
       "   'date': 'Tue, 16 Apr 2024 04:47:08 GMT'},\n",
       "  'RetryAttempts': 0}}"
      ]
     },
     "execution_count": 41,
     "metadata": {},
     "output_type": "execute_result"
    }
   ],
   "source": [
    "canary_deployment_config = {\n",
    "    \"BlueGreenUpdatePolicy\": {\n",
    "        \"TrafficRoutingConfiguration\": {\n",
    "            \"Type\": \"CANARY\",\n",
    "            \"CanarySize\": {\n",
    "                \"Type\": \"INSTANCE_COUNT\",  # or use \"CAPACITY_PERCENT\" as 30%, 50%\n",
    "                \"Value\": 1,\n",
    "            },\n",
    "            \"WaitIntervalInSeconds\": 300,  # wait for 5 minutes before enabling traffic on the rest of fleet\n",
    "        },\n",
    "        \"TerminationWaitInSeconds\": 120,  # wait for 2 minutes before terminating the old stack\n",
    "        \"MaximumExecutionTimeoutInSeconds\": 1800,  # maximum timeout for deployment\n",
    "    },\n",
    "    \"AutoRollbackConfiguration\": {\n",
    "        \"Alarms\": [{\"AlarmName\": error_alarm}, {\"AlarmName\": latency_alarm}],\n",
    "    },\n",
    "}\n",
    "\n",
    "# update endpoint request with new DeploymentConfig parameter\n",
    "sm.update_endpoint(\n",
    "    EndpointName=endpoint_name,\n",
    "    EndpointConfigName=ep_config_name2,\n",
    "    DeploymentConfig=canary_deployment_config,\n",
    ")"
   ]
  },
  {
   "cell_type": "code",
   "execution_count": 42,
   "id": "30d50102",
   "metadata": {},
   "outputs": [
    {
     "name": "stdout",
     "output_type": "stream",
     "text": [
      "Sending test traffic to the endpoint DEMO-Deployment-Guardrails-Canary-2024-04-15-18-01-04. \n",
      "Please wait...\n",
      ".....................................................................................................................................................................................EE.E....EEE...E..EE.E.EEE...\n",
      "Done!\n"
     ]
    }
   ],
   "source": [
    "invoke_endpoint(endpoint_name, max_invocations=600)"
   ]
  },
  {
   "cell_type": "code",
   "execution_count": 43,
   "id": "1fb46a80",
   "metadata": {},
   "outputs": [
    {
     "data": {
      "text/plain": [
       "{'EndpointName': 'DEMO-Deployment-Guardrails-Canary-2024-04-15-18-01-04',\n",
       " 'EndpointArn': 'arn:aws:sagemaker:us-east-1:490656968305:endpoint/DEMO-Deployment-Guardrails-Canary-2024-04-15-18-01-04',\n",
       " 'EndpointConfigName': 'DEMO-EpConfig-3-2024-04-16-01-45-51',\n",
       " 'ProductionVariants': [{'VariantName': 'AllTraffic',\n",
       "   'DeployedImages': [{'SpecifiedImage': '683313688378.dkr.ecr.us-east-1.amazonaws.com/sagemaker-xgboost:0.90-1-cpu-py3',\n",
       "     'ResolvedImage': '683313688378.dkr.ecr.us-east-1.amazonaws.com/sagemaker-xgboost@sha256:4814427c3e0a6cf99e637704da3ada04219ac7cd5727ff62284153761d36d7d3',\n",
       "     'ResolutionTime': datetime.datetime(2024, 4, 16, 3, 54, 28, 126000, tzinfo=tzlocal())}],\n",
       "   'CurrentWeight': 1.0,\n",
       "   'DesiredWeight': 1.0,\n",
       "   'CurrentInstanceCount': 3,\n",
       "   'DesiredInstanceCount': 3}],\n",
       " 'EndpointStatus': 'InService',\n",
       " 'FailureReason': 'One or more configured alarm for automatic rollback deployment is in ALARM state: [TestAlarm-ModelLatency-DEMO-Deployment-Guardrails-Canary-2024-04-15-18-01-04].',\n",
       " 'CreationTime': datetime.datetime(2024, 4, 15, 18, 1, 4, 550000, tzinfo=tzlocal()),\n",
       " 'LastModifiedTime': datetime.datetime(2024, 4, 16, 4, 51, 54, 640000, tzinfo=tzlocal()),\n",
       " 'LastDeploymentConfig': {'BlueGreenUpdatePolicy': {'TrafficRoutingConfiguration': {'Type': 'CANARY',\n",
       "    'WaitIntervalInSeconds': 300,\n",
       "    'CanarySize': {'Type': 'INSTANCE_COUNT', 'Value': 1}},\n",
       "   'TerminationWaitInSeconds': 120,\n",
       "   'MaximumExecutionTimeoutInSeconds': 1800},\n",
       "  'AutoRollbackConfiguration': {'Alarms': [{'AlarmName': 'TestAlarm-5XXErrors-DEMO-Deployment-Guardrails-Canary-2024-04-15-18-01-04'},\n",
       "    {'AlarmName': 'TestAlarm-ModelLatency-DEMO-Deployment-Guardrails-Canary-2024-04-15-18-01-04'}]}},\n",
       " 'ResponseMetadata': {'RequestId': 'ef29a5eb-b566-4119-998a-c9e40ac72010',\n",
       "  'HTTPStatusCode': 200,\n",
       "  'HTTPHeaders': {'x-amzn-requestid': 'ef29a5eb-b566-4119-998a-c9e40ac72010',\n",
       "   'content-type': 'application/x-amz-json-1.1',\n",
       "   'content-length': '1444',\n",
       "   'date': 'Tue, 16 Apr 2024 04:55:06 GMT'},\n",
       "  'RetryAttempts': 0}}"
      ]
     },
     "execution_count": 43,
     "metadata": {},
     "output_type": "execute_result"
    }
   ],
   "source": [
    "sm.describe_endpoint(EndpointName=endpoint_name)"
   ]
  },
  {
   "cell_type": "markdown",
   "id": "d08d380b",
   "metadata": {},
   "source": [
    "# Successful Update"
   ]
  },
  {
   "cell_type": "code",
   "execution_count": 54,
   "id": "db27519f",
   "metadata": {},
   "outputs": [
    {
     "data": {
      "text/plain": [
       "{'EndpointArn': 'arn:aws:sagemaker:us-east-1:490656968305:endpoint/DEMO-Deployment-Guardrails-Canary-2024-04-15-18-01-04',\n",
       " 'ResponseMetadata': {'RequestId': 'ee8674dc-ce78-48b7-aa13-93bef81a3609',\n",
       "  'HTTPStatusCode': 200,\n",
       "  'HTTPHeaders': {'x-amzn-requestid': 'ee8674dc-ce78-48b7-aa13-93bef81a3609',\n",
       "   'content-type': 'application/x-amz-json-1.1',\n",
       "   'content-length': '121',\n",
       "   'date': 'Tue, 16 Apr 2024 05:05:57 GMT'},\n",
       "  'RetryAttempts': 0}}"
      ]
     },
     "execution_count": 54,
     "metadata": {},
     "output_type": "execute_result"
    }
   ],
   "source": [
    "sm.update_endpoint(\n",
    "    EndpointName=endpoint_name,\n",
    "    EndpointConfigName=ep_config_name1,\n",
    "    DeploymentConfig=canary_deployment_config,\n",
    ")"
   ]
  },
  {
   "cell_type": "code",
   "execution_count": 55,
   "id": "28126a92",
   "metadata": {},
   "outputs": [
    {
     "name": "stdout",
     "output_type": "stream",
     "text": [
      "Sending test traffic to the endpoint DEMO-Deployment-Guardrails-Canary-2024-04-15-18-01-04. \n",
      "Please wait...\n",
      ".................................................................................................................................................................................................................\n",
      "Done!\n"
     ]
    }
   ],
   "source": [
    "invoke_endpoint(endpoint_name, max_invocations=600)"
   ]
  },
  {
   "cell_type": "code",
   "execution_count": 56,
   "id": "f13db4a3",
   "metadata": {},
   "outputs": [
    {
     "data": {
      "text/plain": [
       "{'EndpointName': 'DEMO-Deployment-Guardrails-Canary-2024-04-15-18-01-04',\n",
       " 'EndpointArn': 'arn:aws:sagemaker:us-east-1:490656968305:endpoint/DEMO-Deployment-Guardrails-Canary-2024-04-15-18-01-04',\n",
       " 'EndpointConfigName': 'DEMO-EpConfig-1-2024-04-16-05-04-33',\n",
       " 'ProductionVariants': [{'VariantName': 'AllTraffic',\n",
       "   'DeployedImages': [{'SpecifiedImage': '683313688378.dkr.ecr.us-east-1.amazonaws.com/sagemaker-xgboost:0.90-2-cpu-py3',\n",
       "     'ResolvedImage': '683313688378.dkr.ecr.us-east-1.amazonaws.com/sagemaker-xgboost@sha256:0d098653ff2915993d61180da0cde0ed982805093463d40f30212b8050486f18',\n",
       "     'ResolutionTime': datetime.datetime(2024, 4, 16, 5, 5, 58, 380000, tzinfo=tzlocal())}],\n",
       "   'CurrentWeight': 1.0,\n",
       "   'DesiredWeight': 1.0,\n",
       "   'CurrentInstanceCount': 3,\n",
       "   'DesiredInstanceCount': 3}],\n",
       " 'EndpointStatus': 'InService',\n",
       " 'CreationTime': datetime.datetime(2024, 4, 15, 18, 1, 4, 550000, tzinfo=tzlocal()),\n",
       " 'LastModifiedTime': datetime.datetime(2024, 4, 16, 5, 15, 41, 363000, tzinfo=tzlocal()),\n",
       " 'LastDeploymentConfig': {'BlueGreenUpdatePolicy': {'TrafficRoutingConfiguration': {'Type': 'CANARY',\n",
       "    'WaitIntervalInSeconds': 300,\n",
       "    'CanarySize': {'Type': 'INSTANCE_COUNT', 'Value': 1}},\n",
       "   'TerminationWaitInSeconds': 120,\n",
       "   'MaximumExecutionTimeoutInSeconds': 1800},\n",
       "  'AutoRollbackConfiguration': {'Alarms': [{'AlarmName': 'TestAlarm-5XXErrors-DEMO-Deployment-Guardrails-Canary-2024-04-15-18-01-04'},\n",
       "    {'AlarmName': 'TestAlarm-ModelLatency-DEMO-Deployment-Guardrails-Canary-2024-04-15-18-01-04'}]}},\n",
       " 'ResponseMetadata': {'RequestId': '62c02846-c7ca-41a6-bb5c-0b4376946cdf',\n",
       "  'HTTPStatusCode': 200,\n",
       "  'HTTPHeaders': {'x-amzn-requestid': '62c02846-c7ca-41a6-bb5c-0b4376946cdf',\n",
       "   'content-type': 'application/x-amz-json-1.1',\n",
       "   'content-length': '1264',\n",
       "   'date': 'Tue, 16 Apr 2024 05:17:53 GMT'},\n",
       "  'RetryAttempts': 0}}"
      ]
     },
     "execution_count": 56,
     "metadata": {},
     "output_type": "execute_result"
    }
   ],
   "source": [
    "sm.describe_endpoint(EndpointName=endpoint_name)"
   ]
  },
  {
   "cell_type": "markdown",
   "id": "bdf694ef",
   "metadata": {},
   "source": [
    "# Hyperparameter tuning"
   ]
  },
  {
   "cell_type": "code",
   "execution_count": 137,
   "id": "8aa2aa12",
   "metadata": {},
   "outputs": [],
   "source": [
    "#Upadating csv files\n",
    "import pandas as pd\n",
    "from sklearn.preprocessing import LabelEncoder\n",
    "import boto3\n",
    "from io import StringIO\n",
    "\n",
    "# Setup\n",
    "s3 = boto3.client('s3')\n",
    "bucket = 'pipelining'\n",
    "prefix = ''\n",
    "\n",
    "# Function to convert categorical columns to numerical\n",
    "def encode_and_save(file_key, output_key):\n",
    "    response = s3.get_object(Bucket=bucket, Key=file_key)\n",
    "    df = pd.read_csv(response['Body'])\n",
    "\n",
    "    label_encoder = LabelEncoder()\n",
    "    for column in df.select_dtypes(include=['object']).columns:\n",
    "        df[column] = label_encoder.fit_transform(df[column])\n",
    "\n",
    "    csv_buffer = StringIO()\n",
    "    df.to_csv(csv_buffer, index=False)\n",
    "    s3.put_object(Bucket=bucket, Key=output_key, Body=csv_buffer.getvalue())\n",
    "\n",
    "# Encode and save training data\n",
    "encode_and_save(f\"{prefix}Training/train.csv\", f\"{prefix}Training/numerical_training.csv\")\n",
    "\n",
    "# Encode and save validation data\n",
    "encode_and_save(f\"{prefix}Validation/validatioan.csv\", f\"{prefix}Validation/numerical_validation.csv\")\n"
   ]
  },
  {
   "cell_type": "code",
   "execution_count": 138,
   "id": "7ff43bb1",
   "metadata": {},
   "outputs": [
    {
     "name": "stdout",
     "output_type": "stream",
     "text": [
      "xgboost-tuningjob-16-01-05-42\n"
     ]
    }
   ],
   "source": [
    "#setting hyper parameter tuning job config\n",
    "from time import gmtime, strftime, sleep\n",
    "\n",
    "tuning_job_name = \"xgboost-tuningjob-\" + strftime(\"%d-%H-%M-%S\", gmtime())\n",
    "\n",
    "print(tuning_job_name)\n",
    "\n",
    "tuning_job_config = {\n",
    "    \"ParameterRanges\": {\n",
    "        \"CategoricalParameterRanges\": [],\n",
    "        \"ContinuousParameterRanges\": [\n",
    "            {\n",
    "                \"MaxValue\": \"1\",\n",
    "                \"MinValue\": \"0\",\n",
    "                \"Name\": \"eta\",\n",
    "            },\n",
    "            {\n",
    "                \"MaxValue\": \"10\",\n",
    "                \"MinValue\": \"1\",\n",
    "                \"Name\": \"min_child_weight\",\n",
    "            },\n",
    "            {\n",
    "                \"MaxValue\": \"2\",\n",
    "                \"MinValue\": \"0\",\n",
    "                \"Name\": \"alpha\",\n",
    "            },\n",
    "        ],\n",
    "        \"IntegerParameterRanges\": [\n",
    "            {\n",
    "                \"MaxValue\": \"10\",\n",
    "                \"MinValue\": \"1\",\n",
    "                \"Name\": \"max_depth\",\n",
    "            }\n",
    "        ],\n",
    "    },\n",
    "    \"ResourceLimits\": {\"MaxNumberOfTrainingJobs\": 5, \"MaxParallelTrainingJobs\": 2},\n",
    "    \"Strategy\": \"Bayesian\",\n",
    "    \"HyperParameterTuningJobObjective\": {\"MetricName\": \"validation:logloss\", \"Type\": \"Minimize\"},\n",
    "}"
   ]
  },
  {
   "cell_type": "code",
   "execution_count": 139,
   "id": "8adeedba",
   "metadata": {},
   "outputs": [],
   "source": [
    "#Training job definition for HPO\n",
    "\n",
    "bucket = 'pipelining'\n",
    "prefix = ''\n",
    "#from sagemaker.amazon.amazon_estimator import get_image_uri\n",
    "from sagemaker.image_uris import retrieve\n",
    "training_image = retrieve(framework=\"xgboost\", region=region, version=\"0.90-1\")\n",
    "\n",
    "s3_input_train = \"s3://{}/Training/numerical_training.csv\".format(bucket)\n",
    "s3_input_validation = \"s3://{}/Validation/numerical_validation.csv\".format(bucket)\n",
    "\n",
    "#sagemaker_client = boto3.client('sagemaker')\n",
    "#s3_client = boto3.client('s3')\n",
    "\n",
    "\n",
    "training_job_definition = {\n",
    "    \"AlgorithmSpecification\": {\"TrainingImage\": training_image, \"TrainingInputMode\": \"File\"},\n",
    "    \"InputDataConfig\": [\n",
    "        {\n",
    "            \"ChannelName\": \"train\",\n",
    "            \"CompressionType\": \"None\",\n",
    "            \"ContentType\": \"csv\",\n",
    "            \"DataSource\": {\n",
    "                \"S3DataSource\": {\n",
    "                    \"S3DataDistributionType\": \"FullyReplicated\",\n",
    "                    \"S3DataType\": \"S3Prefix\",\n",
    "                    \"S3Uri\": s3_input_train,\n",
    "                }\n",
    "            },\n",
    "        },\n",
    "        {\n",
    "            \"ChannelName\": \"validation\",\n",
    "            \"CompressionType\": \"None\",\n",
    "            \"ContentType\": \"csv\",\n",
    "            \"DataSource\": {\n",
    "                \"S3DataSource\": {\n",
    "                    \"S3DataDistributionType\": \"FullyReplicated\",\n",
    "                    \"S3DataType\": \"S3Prefix\",\n",
    "                    \"S3Uri\": s3_input_validation,\n",
    "                }\n",
    "            },\n",
    "        },\n",
    "    ],\n",
    "    \"OutputDataConfig\": {\"S3OutputPath\": \"s3://{}/output\".format(bucket)},\n",
    "    \"ResourceConfig\": {\"InstanceCount\": 1, \"InstanceType\": \"ml.m4.xlarge\", \"VolumeSizeInGB\": 10},\n",
    "    \"RoleArn\": role,\n",
    "    \"StaticHyperParameters\": {\n",
    "        \"eval_metric\": \"auc\",\n",
    "        \"num_round\": \"100\",\n",
    "        #\"objective\": \"binary:hinge\",\n",
    "        \"objective\": \"binary:logistic\",\n",
    "        \"rate_drop\": \"0.3\",\n",
    "        \"tweedie_variance_power\": \"1.4\",\n",
    "    },\n",
    "    \"StoppingCondition\": {\"MaxRuntimeInSeconds\": 43200},\n",
    "}\n"
   ]
  },
  {
   "cell_type": "code",
   "execution_count": 140,
   "id": "e7586664",
   "metadata": {},
   "outputs": [
    {
     "data": {
      "text/plain": [
       "{'HyperParameterTuningJobArn': 'arn:aws:sagemaker:us-east-1:490656968305:hyper-parameter-tuning-job/xgboost-tuningjob-16-01-05-42',\n",
       " 'ResponseMetadata': {'RequestId': 'c715ddb7-ea25-4682-bc0b-625fa528b67e',\n",
       "  'HTTPStatusCode': 200,\n",
       "  'HTTPHeaders': {'x-amzn-requestid': 'c715ddb7-ea25-4682-bc0b-625fa528b67e',\n",
       "   'content-type': 'application/x-amz-json-1.1',\n",
       "   'content-length': '130',\n",
       "   'date': 'Tue, 16 Apr 2024 01:05:50 GMT'},\n",
       "  'RetryAttempts': 0}}"
      ]
     },
     "execution_count": 140,
     "metadata": {},
     "output_type": "execute_result"
    }
   ],
   "source": [
    "# we create the HPO job\n",
    "smclient = boto3.Session().client(\"sagemaker\")\n",
    "\n",
    "smclient.create_hyper_parameter_tuning_job(\n",
    "    HyperParameterTuningJobName=tuning_job_name,\n",
    "    HyperParameterTuningJobConfig=tuning_job_config,\n",
    "    TrainingJobDefinition=training_job_definition,\n",
    ")"
   ]
  },
  {
   "cell_type": "markdown",
   "id": "b3947856",
   "metadata": {},
   "source": [
    "# Shadow Testing"
   ]
  },
  {
   "cell_type": "code",
   "execution_count": null,
   "id": "b8bbc745",
   "metadata": {},
   "outputs": [],
   "source": [
    "image_uri1 = retrieve(\"xgboost\", boto3.Session().region_name, \"0.90-2\")\n",
    "image_uri3 = retrieve(\"xgboost\", boto3.Session().region_name, \"0.90-1\")\n",
    "\n",
    "\n",
    "print(f\"Model Image 1: {image_uri1}\")\n",
    "print(f\"Model Image 2: {image_uri3}\")"
   ]
  },
  {
   "cell_type": "code",
   "execution_count": 64,
   "id": "97b1f214",
   "metadata": {},
   "outputs": [
    {
     "name": "stdout",
     "output_type": "stream",
     "text": [
      "DEMO-xgb-pred1-2024-04-16-05-04-20\n"
     ]
    },
    {
     "data": {
      "text/plain": [
       "'DEMO-xgb-pred3-2024-04-16-04-46-15'"
      ]
     },
     "execution_count": 64,
     "metadata": {},
     "output_type": "execute_result"
    }
   ],
   "source": [
    "print(model_name1)\n",
    "model_name3\n"
   ]
  },
  {
   "cell_type": "code",
   "execution_count": 65,
   "id": "cf8b7f21",
   "metadata": {},
   "outputs": [],
   "source": [
    "endpoint_config_name = f\"Shadowtesting-{datetime.now():%Y-%m-%d-%H-%M-%S}\"\n",
    "\n",
    "create_endpoint_config_response = sm.create_endpoint_config(\n",
    "    EndpointConfigName=endpoint_config_name,\n",
    "    ProductionVariants=[\n",
    "        {\n",
    "            \"VariantName\": \"Productionvariant\",\n",
    "            \"ModelName\": model_name3,\n",
    "            \"InstanceType\": \"ml.m5.xlarge\",\n",
    "            \"InitialInstanceCount\": 1,\n",
    "            \"InitialVariantWeight\": 1,\n",
    "        }\n",
    "    ],\n",
    "    ShadowProductionVariants=[\n",
    "        {\n",
    "            \"VariantName\": \"Shadowvariant\",\n",
    "            \"ModelName\": model_name1,\n",
    "            \"InstanceType\": \"ml.m5.xlarge\",\n",
    "            \"InitialInstanceCount\": 1,\n",
    "            \"InitialVariantWeight\": 1,\n",
    "        }\n",
    "   ]\n",
    ")\n",
    "                "
   ]
  },
  {
   "cell_type": "code",
   "execution_count": 66,
   "id": "fa6244d6",
   "metadata": {},
   "outputs": [],
   "source": [
    "create_endpoint_response = sm.create_endpoint(\n",
    "    EndpointName=\"Shadowtesting\",\n",
    "    EndpointConfigName=endpoint_config_name,\n",
    ")\n",
    "                "
   ]
  },
  {
   "cell_type": "code",
   "execution_count": 69,
   "id": "01cd435c",
   "metadata": {},
   "outputs": [
    {
     "data": {
      "text/plain": [
       "{'EndpointName': 'Shadowtesting',\n",
       " 'EndpointArn': 'arn:aws:sagemaker:us-east-1:490656968305:endpoint/Shadowtesting',\n",
       " 'EndpointConfigName': 'Shadowtesting-2024-04-16-06-03-28',\n",
       " 'ProductionVariants': [{'VariantName': 'Productionvariant',\n",
       "   'DeployedImages': [{'SpecifiedImage': '683313688378.dkr.ecr.us-east-1.amazonaws.com/sagemaker-xgboost:0.90-1-cpu-py3',\n",
       "     'ResolvedImage': '683313688378.dkr.ecr.us-east-1.amazonaws.com/sagemaker-xgboost@sha256:4814427c3e0a6cf99e637704da3ada04219ac7cd5727ff62284153761d36d7d3',\n",
       "     'ResolutionTime': datetime.datetime(2024, 4, 16, 6, 5, 38, 736000, tzinfo=tzlocal())}],\n",
       "   'CurrentWeight': 1.0,\n",
       "   'DesiredWeight': 1.0,\n",
       "   'CurrentInstanceCount': 1,\n",
       "   'DesiredInstanceCount': 1}],\n",
       " 'EndpointStatus': 'InService',\n",
       " 'CreationTime': datetime.datetime(2024, 4, 16, 6, 5, 37, 974000, tzinfo=tzlocal()),\n",
       " 'LastModifiedTime': datetime.datetime(2024, 4, 16, 6, 8, 13, 608000, tzinfo=tzlocal()),\n",
       " 'ShadowProductionVariants': [{'VariantName': 'Shadowvariant',\n",
       "   'DeployedImages': [{'SpecifiedImage': '683313688378.dkr.ecr.us-east-1.amazonaws.com/sagemaker-xgboost:0.90-2-cpu-py3',\n",
       "     'ResolvedImage': '683313688378.dkr.ecr.us-east-1.amazonaws.com/sagemaker-xgboost@sha256:0d098653ff2915993d61180da0cde0ed982805093463d40f30212b8050486f18',\n",
       "     'ResolutionTime': datetime.datetime(2024, 4, 16, 6, 5, 38, 805000, tzinfo=tzlocal())}],\n",
       "   'CurrentWeight': 1.0,\n",
       "   'DesiredWeight': 1.0,\n",
       "   'CurrentInstanceCount': 1,\n",
       "   'DesiredInstanceCount': 1}],\n",
       " 'ResponseMetadata': {'RequestId': '4ea8a6a0-29a2-4316-812c-8b1614d150e7',\n",
       "  'HTTPStatusCode': 200,\n",
       "  'HTTPHeaders': {'x-amzn-requestid': '4ea8a6a0-29a2-4316-812c-8b1614d150e7',\n",
       "   'content-type': 'application/x-amz-json-1.1',\n",
       "   'content-length': '1176',\n",
       "   'date': 'Tue, 16 Apr 2024 06:09:11 GMT'},\n",
       "  'RetryAttempts': 0}}"
      ]
     },
     "execution_count": 69,
     "metadata": {},
     "output_type": "execute_result"
    }
   ],
   "source": [
    "sm.describe_endpoint(EndpointName=\"Shadowtesting\")"
   ]
  },
  {
   "cell_type": "code",
   "execution_count": 72,
   "id": "e6fdb53d",
   "metadata": {},
   "outputs": [
    {
     "name": "stdout",
     "output_type": "stream",
     "text": [
      "Sending test traffic to the endpoint Shadowtesting. \n",
      "Please wait...\n",
      "...............................\n",
      "Done!\n",
      "CPU times: user 101 ms, sys: 14.1 ms, total: 115 ms\n",
      "Wall time: 30.4 s\n"
     ]
    }
   ],
   "source": [
    "%%time\n",
    "invoke_endpoint(endpoint_name=\"Shadowtesting\", max_invocations=30)"
   ]
  },
  {
   "cell_type": "code",
   "execution_count": 74,
   "id": "55864265",
   "metadata": {},
   "outputs": [
    {
     "name": "stdout",
     "output_type": "stream",
     "text": [
      "Updated weights. Traffic now directed to the production variant.\n"
     ]
    }
   ],
   "source": [
    "response = sm.update_endpoint_weights_and_capacities(\n",
    "    EndpointName=\"Shadowtesting\",\n",
    "    DesiredWeightsAndCapacities=[\n",
    "        {\n",
    "            \"VariantName\": \"Productionvariant\",\n",
    "            \"DesiredWeight\": 1\n",
    "        },\n",
    "        {\n",
    "            \"VariantName\": \"Shadowvariant\",\n",
    "            \"DesiredWeight\": 0\n",
    "        }\n",
    "    ]\n",
    ")\n",
    "\n",
    "print(\"Updated weights. Traffic now directed to the production variant.\")\n"
   ]
  },
  {
   "cell_type": "code",
   "execution_count": 75,
   "id": "66b682b7",
   "metadata": {},
   "outputs": [
    {
     "name": "stdout",
     "output_type": "stream",
     "text": [
      "Sending test traffic to the endpoint Shadowtesting. \n",
      "Please wait...\n",
      "...............................\n",
      "Done!\n",
      "CPU times: user 113 ms, sys: 11.9 ms, total: 125 ms\n",
      "Wall time: 30.5 s\n"
     ]
    }
   ],
   "source": [
    "%%time\n",
    "invoke_endpoint(endpoint_name=\"Shadowtesting\", max_invocations=30)"
   ]
  },
  {
   "cell_type": "code",
   "execution_count": 79,
   "id": "e0c7bd9b",
   "metadata": {},
   "outputs": [
    {
     "name": "stdout",
     "output_type": "stream",
     "text": [
      "Updated weights. Traffic now directed to the production variant.\n"
     ]
    }
   ],
   "source": [
    "response = sm.update_endpoint_weights_and_capacities(\n",
    "    EndpointName=\"Shadowtesting\",\n",
    "    DesiredWeightsAndCapacities=[\n",
    "        {\n",
    "            \"VariantName\": \"Productionvariant\",\n",
    "            \"DesiredWeight\": 0\n",
    "        },\n",
    "        {\n",
    "            \"VariantName\": \"Shadowvariant\",\n",
    "            \"DesiredWeight\": 1\n",
    "        }\n",
    "    ]\n",
    ")\n",
    "\n",
    "print(\"Updated weights. Traffic now directed to the production variant.\")\n"
   ]
  },
  {
   "cell_type": "code",
   "execution_count": 80,
   "id": "2aba9ef0",
   "metadata": {},
   "outputs": [
    {
     "name": "stdout",
     "output_type": "stream",
     "text": [
      "Sending test traffic to the endpoint Shadowtesting. \n",
      "Please wait...\n",
      "...............................\n",
      "Done!\n",
      "CPU times: user 96 ms, sys: 18.2 ms, total: 114 ms\n",
      "Wall time: 30.4 s\n"
     ]
    }
   ],
   "source": [
    "%%time\n",
    "invoke_endpoint(endpoint_name=\"Shadowtesting\", max_invocations=30)"
   ]
  },
  {
   "cell_type": "code",
   "execution_count": 82,
   "id": "0e5f6806",
   "metadata": {},
   "outputs": [],
   "source": [
    "endpoint_config_name_new = f\"Shadowtesting-{datetime.now():%Y-%m-%d-%H-%M-%S}\"\n",
    "\n",
    "create_endpoint_config_response = sm.create_endpoint_config(\n",
    "    EndpointConfigName=endpoint_config_name_new,\n",
    "    ProductionVariants=[\n",
    "        {\n",
    "            \"VariantName\": \"Productionvariant\",\n",
    "            \"ModelName\": model_name1,\n",
    "            \"InstanceType\": \"ml.m5.xlarge\",\n",
    "            \"InitialInstanceCount\": 1,\n",
    "            \"InitialVariantWeight\": 1,\n",
    "        }\n",
    "    ]\n",
    ")"
   ]
  },
  {
   "cell_type": "code",
   "execution_count": 85,
   "id": "bc9c5da2",
   "metadata": {},
   "outputs": [
    {
     "data": {
      "text/plain": [
       "{'EndpointArn': 'arn:aws:sagemaker:us-east-1:490656968305:endpoint/Shadowtesting',\n",
       " 'ResponseMetadata': {'RequestId': '5fa1bfb5-b9b6-4a46-8a79-cc0ed31b2b16',\n",
       "  'HTTPStatusCode': 200,\n",
       "  'HTTPHeaders': {'x-amzn-requestid': '5fa1bfb5-b9b6-4a46-8a79-cc0ed31b2b16',\n",
       "   'content-type': 'application/x-amz-json-1.1',\n",
       "   'content-length': '81',\n",
       "   'date': 'Tue, 16 Apr 2024 06:36:28 GMT'},\n",
       "  'RetryAttempts': 0}}"
      ]
     },
     "execution_count": 85,
     "metadata": {},
     "output_type": "execute_result"
    }
   ],
   "source": [
    "sm.update_endpoint(\n",
    "    EndpointName=\"Shadowtesting\",\n",
    "    EndpointConfigName=endpoint_config_name_new,\n",
    "    \n",
    ")"
   ]
  },
  {
   "cell_type": "code",
   "execution_count": null,
   "id": "d7a3cbd4",
   "metadata": {},
   "outputs": [],
   "source": []
  }
 ],
 "metadata": {
  "kernelspec": {
   "display_name": "conda_python3",
   "language": "python",
   "name": "conda_python3"
  },
  "language_info": {
   "codemirror_mode": {
    "name": "ipython",
    "version": 3
   },
   "file_extension": ".py",
   "mimetype": "text/x-python",
   "name": "python",
   "nbconvert_exporter": "python",
   "pygments_lexer": "ipython3",
   "version": "3.10.13"
  }
 },
 "nbformat": 4,
 "nbformat_minor": 5
}
